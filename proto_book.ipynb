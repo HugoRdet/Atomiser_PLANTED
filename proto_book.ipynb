{
 "cells": [
  {
   "cell_type": "code",
   "execution_count": 1,
   "id": "ef9ee579-90ab-423c-871e-d95132fea962",
   "metadata": {},
   "outputs": [
    {
     "data": {
      "text/plain": [
       "<torch._C.Generator at 0x71892abf6c90>"
      ]
     },
     "execution_count": 1,
     "metadata": {},
     "output_type": "execute_result"
    }
   ],
   "source": [
    "from training.perceiver import*\n",
    "from training.utils import*\n",
    "from training.losses import*\n",
    "from training.VIT import*\n",
    "from training.ResNet import*\n",
    "from collections import defaultdict\n",
    "from training import*\n",
    "\n",
    "from pytorch_lightning import Trainer\n",
    "from pytorch_lightning.loggers import WandbLogger\n",
    "\n",
    "import torch\n",
    "import numpy as np\n",
    "from torch import nn, einsum\n",
    "import torch.nn.functional as F\n",
    "import einops as einops\n",
    "from einops import rearrange, repeat\n",
    "from einops.layers.torch import Reduce\n",
    "\n",
    "import matplotlib.pyplot as plt\n",
    "\n",
    "from configilm import util\n",
    "util.MESSAGE_LEVEL = util.MessageLevel.INFO  # use INFO to see all messages\n",
    "\n",
    "\n",
    "from configilm.extra.DataSets import BENv2_DataSet\n",
    "from configilm.extra.DataModules import BENv2_DataModule\n",
    "\n",
    "torch.manual_seed(0)"
   ]
  },
  {
   "cell_type": "markdown",
   "id": "bb411b47-5946-4e1d-b077-6897e95092ec",
   "metadata": {},
   "source": [
    "# Perceiver"
   ]
  },
  {
   "cell_type": "code",
   "execution_count": 1,
   "id": "9c126c0c",
   "metadata": {},
   "outputs": [
    {
     "name": "stdout",
     "output_type": "stream",
     "text": [
      "Collecting einops\n",
      "  Downloading einops-0.8.1-py3-none-any.whl.metadata (13 kB)\n",
      "Collecting matplotlib\n",
      "  Downloading matplotlib-3.10.0-cp311-cp311-manylinux_2_17_x86_64.manylinux2014_x86_64.whl.metadata (11 kB)\n",
      "Collecting pandas\n",
      "  Downloading pandas-2.2.3-cp311-cp311-manylinux_2_17_x86_64.manylinux2014_x86_64.whl.metadata (89 kB)\n",
      "Collecting h5py\n",
      "  Downloading h5py-3.13.0-cp311-cp311-manylinux_2_17_x86_64.manylinux2014_x86_64.whl.metadata (2.5 kB)\n",
      "Collecting pytorch-lightning\n",
      "  Downloading pytorch_lightning-2.5.0.post0-py3-none-any.whl.metadata (21 kB)\n",
      "Collecting scikit-learn\n",
      "  Downloading scikit_learn-1.6.1-cp311-cp311-manylinux_2_17_x86_64.manylinux2014_x86_64.whl.metadata (18 kB)\n",
      "Requirement already satisfied: numpy in /opt/conda/lib/python3.11/site-packages (2.1.2)\n",
      "Collecting configilm[full]\n",
      "  Downloading configilm-0.7.0-py3-none-any.whl.metadata (8.7 kB)\n",
      "Collecting contourpy>=1.0.1 (from matplotlib)\n",
      "  Downloading contourpy-1.3.1-cp311-cp311-manylinux_2_17_x86_64.manylinux2014_x86_64.whl.metadata (5.4 kB)\n",
      "Collecting cycler>=0.10 (from matplotlib)\n",
      "  Downloading cycler-0.12.1-py3-none-any.whl.metadata (3.8 kB)\n",
      "Collecting fonttools>=4.22.0 (from matplotlib)\n",
      "  Downloading fonttools-4.56.0-cp311-cp311-manylinux_2_17_x86_64.manylinux2014_x86_64.whl.metadata (101 kB)\n",
      "Collecting kiwisolver>=1.3.1 (from matplotlib)\n",
      "  Downloading kiwisolver-1.4.8-cp311-cp311-manylinux_2_17_x86_64.manylinux2014_x86_64.whl.metadata (6.2 kB)\n",
      "Requirement already satisfied: packaging>=20.0 in /opt/conda/lib/python3.11/site-packages (from matplotlib) (24.1)\n",
      "Requirement already satisfied: pillow>=8 in /opt/conda/lib/python3.11/site-packages (from matplotlib) (10.2.0)\n",
      "Collecting pyparsing>=2.3.1 (from matplotlib)\n",
      "  Downloading pyparsing-3.2.1-py3-none-any.whl.metadata (5.0 kB)\n",
      "Requirement already satisfied: python-dateutil>=2.7 in /opt/conda/lib/python3.11/site-packages (from matplotlib) (2.9.0.post0)\n",
      "Requirement already satisfied: pytz>=2020.1 in /opt/conda/lib/python3.11/site-packages (from pandas) (2024.2)\n",
      "Collecting tzdata>=2022.7 (from pandas)\n",
      "  Downloading tzdata-2025.1-py2.py3-none-any.whl.metadata (1.4 kB)\n",
      "Requirement already satisfied: torch>=2.1.0 in /opt/conda/lib/python3.11/site-packages (from pytorch-lightning) (2.5.1+cu124)\n",
      "Requirement already satisfied: tqdm>=4.57.0 in /opt/conda/lib/python3.11/site-packages (from pytorch-lightning) (4.66.5)\n",
      "Requirement already satisfied: PyYAML>=5.4 in /opt/conda/lib/python3.11/site-packages (from pytorch-lightning) (6.0.2)\n",
      "Requirement already satisfied: fsspec>=2022.5.0 in /opt/conda/lib/python3.11/site-packages (from fsspec[http]>=2022.5.0->pytorch-lightning) (2024.10.0)\n",
      "Collecting torchmetrics>=0.7.0 (from pytorch-lightning)\n",
      "  Downloading torchmetrics-1.6.1-py3-none-any.whl.metadata (21 kB)\n",
      "Requirement already satisfied: typing-extensions>=4.4.0 in /opt/conda/lib/python3.11/site-packages (from pytorch-lightning) (4.12.2)\n",
      "Collecting lightning-utilities>=0.10.0 (from pytorch-lightning)\n",
      "  Downloading lightning_utilities-0.12.0-py3-none-any.whl.metadata (5.6 kB)\n",
      "Collecting appdirs<2.0.0,>=1.4.4 (from configilm[full])\n",
      "  Downloading appdirs-1.4.4-py2.py3-none-any.whl.metadata (9.0 kB)\n",
      "Collecting bigearthnet-encoder<0.4.0,>=0.3.0 (from configilm[full])\n",
      "  Downloading bigearthnet_encoder-0.3.0-py3-none-any.whl.metadata (4.0 kB)\n",
      "Collecting lightning<3.0.0,>=2.0.0 (from configilm[full])\n",
      "  Downloading lightning-2.5.0.post0-py3-none-any.whl.metadata (40 kB)\n",
      "Collecting lmdb<2.0.0,>=1.4.0 (from configilm[full])\n",
      "  Downloading lmdb-1.6.2-cp311-cp311-manylinux_2_17_x86_64.manylinux2014_x86_64.whl.metadata (1.1 kB)\n",
      "Collecting numpy\n",
      "  Downloading numpy-1.26.4-cp311-cp311-manylinux_2_17_x86_64.manylinux2014_x86_64.whl.metadata (61 kB)\n",
      "Collecting pyarrow<13.0.0,>=12.0.1 (from configilm[full])\n",
      "  Downloading pyarrow-12.0.1-cp311-cp311-manylinux_2_17_x86_64.manylinux2014_x86_64.whl.metadata (3.0 kB)\n",
      "Collecting pydantic<2.0,>=1.8 (from configilm[full])\n",
      "  Downloading pydantic-1.10.21-cp311-cp311-manylinux_2_17_x86_64.manylinux2014_x86_64.whl.metadata (153 kB)\n",
      "Collecting timm<0.10.0,>=0.9.2 (from configilm[full])\n",
      "  Downloading timm-0.9.16-py3-none-any.whl.metadata (38 kB)\n",
      "Collecting transformers<5.0.0,>=4.26.0 (from configilm[full])\n",
      "  Downloading transformers-4.49.0-py3-none-any.whl.metadata (44 kB)\n",
      "Collecting scipy>=1.6.0 (from scikit-learn)\n",
      "  Downloading scipy-1.15.2-cp311-cp311-manylinux_2_17_x86_64.manylinux2014_x86_64.whl.metadata (61 kB)\n",
      "Collecting joblib>=1.2.0 (from scikit-learn)\n",
      "  Downloading joblib-1.4.2-py3-none-any.whl.metadata (5.4 kB)\n",
      "Collecting threadpoolctl>=3.1.0 (from scikit-learn)\n",
      "  Downloading threadpoolctl-3.5.0-py3-none-any.whl.metadata (13 kB)\n",
      "Collecting bigearthnet-common>=2.8 (from bigearthnet-encoder<0.4.0,>=0.3.0->configilm[full])\n",
      "  Downloading bigearthnet_common-2.8.0-py3-none-any.whl.metadata (5.0 kB)\n",
      "Collecting bigearthnet-patch-interface>=0.1 (from bigearthnet-encoder<0.4.0,>=0.3.0->configilm[full])\n",
      "  Downloading bigearthnet_patch_interface-0.1.2-py3-none-any.whl.metadata (5.4 kB)\n",
      "Collecting fastcore>=1.3 (from bigearthnet-encoder<0.4.0,>=0.3.0->configilm[full])\n",
      "  Downloading fastcore-1.7.29-py3-none-any.whl.metadata (3.6 kB)\n",
      "Collecting rasterio>=1.2 (from bigearthnet-encoder<0.4.0,>=0.3.0->configilm[full])\n",
      "  Downloading rasterio-1.4.3-cp311-cp311-manylinux_2_17_x86_64.manylinux2014_x86_64.whl.metadata (9.1 kB)\n",
      "Collecting typer>=0.6 (from typer[all]>=0.6->bigearthnet-encoder<0.4.0,>=0.3.0->configilm[full])\n",
      "  Downloading typer-0.15.1-py3-none-any.whl.metadata (15 kB)\n",
      "Collecting aiohttp!=4.0.0a0,!=4.0.0a1 (from fsspec[http]>=2022.5.0->pytorch-lightning)\n",
      "  Downloading aiohttp-3.11.12-cp311-cp311-manylinux_2_17_x86_64.manylinux2014_x86_64.whl.metadata (7.7 kB)\n",
      "Requirement already satisfied: setuptools in /opt/conda/lib/python3.11/site-packages (from lightning-utilities>=0.10.0->pytorch-lightning) (72.1.0)\n",
      "Requirement already satisfied: six>=1.5 in /opt/conda/lib/python3.11/site-packages (from python-dateutil>=2.7->matplotlib) (1.16.0)\n",
      "Requirement already satisfied: torchvision in /opt/conda/lib/python3.11/site-packages (from timm<0.10.0,>=0.9.2->configilm[full]) (0.20.1+cu124)\n",
      "Collecting huggingface_hub (from timm<0.10.0,>=0.9.2->configilm[full])\n",
      "  Downloading huggingface_hub-0.29.1-py3-none-any.whl.metadata (13 kB)\n",
      "Collecting safetensors (from timm<0.10.0,>=0.9.2->configilm[full])\n",
      "  Downloading safetensors-0.5.2-cp38-abi3-manylinux_2_17_x86_64.manylinux2014_x86_64.whl.metadata (3.8 kB)\n",
      "Requirement already satisfied: filelock in /opt/conda/lib/python3.11/site-packages (from torch>=2.1.0->pytorch-lightning) (3.16.1)\n",
      "Requirement already satisfied: networkx in /opt/conda/lib/python3.11/site-packages (from torch>=2.1.0->pytorch-lightning) (3.4.2)\n",
      "Requirement already satisfied: jinja2 in /opt/conda/lib/python3.11/site-packages (from torch>=2.1.0->pytorch-lightning) (3.1.4)\n",
      "Requirement already satisfied: nvidia-cuda-nvrtc-cu12==12.4.127 in /opt/conda/lib/python3.11/site-packages (from torch>=2.1.0->pytorch-lightning) (12.4.127)\n",
      "Requirement already satisfied: nvidia-cuda-runtime-cu12==12.4.127 in /opt/conda/lib/python3.11/site-packages (from torch>=2.1.0->pytorch-lightning) (12.4.127)\n",
      "Requirement already satisfied: nvidia-cuda-cupti-cu12==12.4.127 in /opt/conda/lib/python3.11/site-packages (from torch>=2.1.0->pytorch-lightning) (12.4.127)\n",
      "Requirement already satisfied: nvidia-cudnn-cu12==9.1.0.70 in /opt/conda/lib/python3.11/site-packages (from torch>=2.1.0->pytorch-lightning) (9.1.0.70)\n",
      "Requirement already satisfied: nvidia-cublas-cu12==12.4.5.8 in /opt/conda/lib/python3.11/site-packages (from torch>=2.1.0->pytorch-lightning) (12.4.5.8)\n",
      "Requirement already satisfied: nvidia-cufft-cu12==11.2.1.3 in /opt/conda/lib/python3.11/site-packages (from torch>=2.1.0->pytorch-lightning) (11.2.1.3)\n",
      "Requirement already satisfied: nvidia-curand-cu12==10.3.5.147 in /opt/conda/lib/python3.11/site-packages (from torch>=2.1.0->pytorch-lightning) (10.3.5.147)\n",
      "Requirement already satisfied: nvidia-cusolver-cu12==11.6.1.9 in /opt/conda/lib/python3.11/site-packages (from torch>=2.1.0->pytorch-lightning) (11.6.1.9)\n",
      "Requirement already satisfied: nvidia-cusparse-cu12==12.3.1.170 in /opt/conda/lib/python3.11/site-packages (from torch>=2.1.0->pytorch-lightning) (12.3.1.170)\n",
      "Requirement already satisfied: nvidia-nccl-cu12==2.21.5 in /opt/conda/lib/python3.11/site-packages (from torch>=2.1.0->pytorch-lightning) (2.21.5)\n",
      "Requirement already satisfied: nvidia-nvtx-cu12==12.4.127 in /opt/conda/lib/python3.11/site-packages (from torch>=2.1.0->pytorch-lightning) (12.4.127)\n",
      "Requirement already satisfied: nvidia-nvjitlink-cu12==12.4.127 in /opt/conda/lib/python3.11/site-packages (from torch>=2.1.0->pytorch-lightning) (12.4.127)\n",
      "Requirement already satisfied: triton==3.1.0 in /opt/conda/lib/python3.11/site-packages (from torch>=2.1.0->pytorch-lightning) (3.1.0)\n",
      "Requirement already satisfied: sympy==1.13.1 in /opt/conda/lib/python3.11/site-packages (from torch>=2.1.0->pytorch-lightning) (1.13.1)\n",
      "Requirement already satisfied: mpmath<1.4,>=1.1.0 in /opt/conda/lib/python3.11/site-packages (from sympy==1.13.1->torch>=2.1.0->pytorch-lightning) (1.3.0)\n",
      "Collecting regex!=2019.12.17 (from transformers<5.0.0,>=4.26.0->configilm[full])\n",
      "  Downloading regex-2024.11.6-cp311-cp311-manylinux_2_17_x86_64.manylinux2014_x86_64.whl.metadata (40 kB)\n",
      "Requirement already satisfied: requests in /opt/conda/lib/python3.11/site-packages (from transformers<5.0.0,>=4.26.0->configilm[full]) (2.32.3)\n",
      "Collecting tokenizers<0.22,>=0.21 (from transformers<5.0.0,>=4.26.0->configilm[full])\n",
      "  Downloading tokenizers-0.21.0-cp39-abi3-manylinux_2_17_x86_64.manylinux2014_x86_64.whl.metadata (6.7 kB)\n",
      "Collecting aiohappyeyeballs>=2.3.0 (from aiohttp!=4.0.0a0,!=4.0.0a1->fsspec[http]>=2022.5.0->pytorch-lightning)\n",
      "  Downloading aiohappyeyeballs-2.4.6-py3-none-any.whl.metadata (5.9 kB)\n",
      "Collecting aiosignal>=1.1.2 (from aiohttp!=4.0.0a0,!=4.0.0a1->fsspec[http]>=2022.5.0->pytorch-lightning)\n",
      "  Downloading aiosignal-1.3.2-py2.py3-none-any.whl.metadata (3.8 kB)\n",
      "Requirement already satisfied: attrs>=17.3.0 in /opt/conda/lib/python3.11/site-packages (from aiohttp!=4.0.0a0,!=4.0.0a1->fsspec[http]>=2022.5.0->pytorch-lightning) (24.2.0)\n",
      "Collecting frozenlist>=1.1.1 (from aiohttp!=4.0.0a0,!=4.0.0a1->fsspec[http]>=2022.5.0->pytorch-lightning)\n",
      "  Downloading frozenlist-1.5.0-cp311-cp311-manylinux_2_5_x86_64.manylinux1_x86_64.manylinux_2_17_x86_64.manylinux2014_x86_64.whl.metadata (13 kB)\n",
      "Collecting multidict<7.0,>=4.5 (from aiohttp!=4.0.0a0,!=4.0.0a1->fsspec[http]>=2022.5.0->pytorch-lightning)\n",
      "  Downloading multidict-6.1.0-cp311-cp311-manylinux_2_17_x86_64.manylinux2014_x86_64.whl.metadata (5.0 kB)\n",
      "Collecting propcache>=0.2.0 (from aiohttp!=4.0.0a0,!=4.0.0a1->fsspec[http]>=2022.5.0->pytorch-lightning)\n",
      "  Downloading propcache-0.3.0-cp311-cp311-manylinux_2_17_x86_64.manylinux2014_x86_64.whl.metadata (10 kB)\n",
      "Collecting yarl<2.0,>=1.17.0 (from aiohttp!=4.0.0a0,!=4.0.0a1->fsspec[http]>=2022.5.0->pytorch-lightning)\n",
      "  Downloading yarl-1.18.3-cp311-cp311-manylinux_2_17_x86_64.manylinux2014_x86_64.whl.metadata (69 kB)\n",
      "Collecting natsort>=8 (from bigearthnet-common>=2.8->bigearthnet-encoder<0.4.0,>=0.3.0->configilm[full])\n",
      "  Downloading natsort-8.4.0-py3-none-any.whl.metadata (21 kB)\n",
      "Collecting affine (from rasterio>=1.2->bigearthnet-encoder<0.4.0,>=0.3.0->configilm[full])\n",
      "  Downloading affine-2.4.0-py3-none-any.whl.metadata (4.0 kB)\n",
      "Requirement already satisfied: certifi in /opt/conda/lib/python3.11/site-packages (from rasterio>=1.2->bigearthnet-encoder<0.4.0,>=0.3.0->configilm[full]) (2024.8.30)\n",
      "Requirement already satisfied: click>=4.0 in /opt/conda/lib/python3.11/site-packages (from rasterio>=1.2->bigearthnet-encoder<0.4.0,>=0.3.0->configilm[full]) (8.1.7)\n",
      "Collecting cligj>=0.5 (from rasterio>=1.2->bigearthnet-encoder<0.4.0,>=0.3.0->configilm[full])\n",
      "  Downloading cligj-0.7.2-py3-none-any.whl.metadata (5.0 kB)\n",
      "Collecting click-plugins (from rasterio>=1.2->bigearthnet-encoder<0.4.0,>=0.3.0->configilm[full])\n",
      "  Downloading click_plugins-1.1.1-py2.py3-none-any.whl.metadata (6.4 kB)\n",
      "Collecting shellingham>=1.3.0 (from typer>=0.6->typer[all]>=0.6->bigearthnet-encoder<0.4.0,>=0.3.0->configilm[full])\n",
      "  Downloading shellingham-1.5.4-py2.py3-none-any.whl.metadata (3.5 kB)\n",
      "Collecting rich>=10.11.0 (from typer>=0.6->typer[all]>=0.6->bigearthnet-encoder<0.4.0,>=0.3.0->configilm[full])\n",
      "  Downloading rich-13.9.4-py3-none-any.whl.metadata (18 kB)\n",
      "\u001b[33mWARNING: typer 0.15.1 does not provide the extra 'all'\u001b[0m\u001b[33m\n",
      "Requirement already satisfied: MarkupSafe>=2.0 in /opt/conda/lib/python3.11/site-packages (from jinja2->torch>=2.1.0->pytorch-lightning) (3.0.2)\n",
      "Requirement already satisfied: charset-normalizer<4,>=2 in /opt/conda/lib/python3.11/site-packages (from requests->transformers<5.0.0,>=4.26.0->configilm[full]) (3.4.0)\n",
      "Requirement already satisfied: idna<4,>=2.5 in /opt/conda/lib/python3.11/site-packages (from requests->transformers<5.0.0,>=4.26.0->configilm[full]) (3.10)\n",
      "Requirement already satisfied: urllib3<3,>=1.21.1 in /opt/conda/lib/python3.11/site-packages (from requests->transformers<5.0.0,>=4.26.0->configilm[full]) (2.2.3)\n",
      "Collecting markdown-it-py>=2.2.0 (from rich>=10.11.0->typer>=0.6->typer[all]>=0.6->bigearthnet-encoder<0.4.0,>=0.3.0->configilm[full])\n",
      "  Downloading markdown_it_py-3.0.0-py3-none-any.whl.metadata (6.9 kB)\n",
      "Requirement already satisfied: pygments<3.0.0,>=2.13.0 in /opt/conda/lib/python3.11/site-packages (from rich>=10.11.0->typer>=0.6->typer[all]>=0.6->bigearthnet-encoder<0.4.0,>=0.3.0->configilm[full]) (2.18.0)\n",
      "Collecting mdurl~=0.1 (from markdown-it-py>=2.2.0->rich>=10.11.0->typer>=0.6->typer[all]>=0.6->bigearthnet-encoder<0.4.0,>=0.3.0->configilm[full])\n",
      "  Downloading mdurl-0.1.2-py3-none-any.whl.metadata (1.6 kB)\n",
      "Downloading einops-0.8.1-py3-none-any.whl (64 kB)\n",
      "Downloading matplotlib-3.10.0-cp311-cp311-manylinux_2_17_x86_64.manylinux2014_x86_64.whl (8.6 MB)\n",
      "\u001b[2K   \u001b[90m━━━━━━━━━━━━━━━━━━━━━━━━━━━━━━━━━━━━━━━━\u001b[0m \u001b[32m8.6/8.6 MB\u001b[0m \u001b[31m352.9 kB/s\u001b[0m eta \u001b[36m0:00:00\u001b[0m00:01\u001b[0m00:02\u001b[0m\n",
      "Downloading pandas-2.2.3-cp311-cp311-manylinux_2_17_x86_64.manylinux2014_x86_64.whl (13.1 MB)\n",
      "\u001b[2K   \u001b[90m━━━━━━━━━━━━━━━━━━━━━━━━━━━━━━━━━━━━━━━━\u001b[0m \u001b[32m13.1/13.1 MB\u001b[0m \u001b[31m354.7 kB/s\u001b[0m eta \u001b[36m0:00:00\u001b[0m00:01\u001b[0m00:02\u001b[0m\n",
      "Downloading h5py-3.13.0-cp311-cp311-manylinux_2_17_x86_64.manylinux2014_x86_64.whl (4.5 MB)\n",
      "\u001b[2K   \u001b[90m━━━━━━━━━━━━━━━━━━━━━━━━━━━━━━━━━━━━━━━━\u001b[0m \u001b[32m4.5/4.5 MB\u001b[0m \u001b[31m285.8 kB/s\u001b[0m eta \u001b[36m0:00:00\u001b[0ma \u001b[36m0:00:02\u001b[0m\n",
      "Downloading pytorch_lightning-2.5.0.post0-py3-none-any.whl (819 kB)\n",
      "\u001b[2K   \u001b[90m━━━━━━━━━━━━━━━━━━━━━━━━━━━━━━━━━━━━━━━\u001b[0m \u001b[32m819.3/819.3 kB\u001b[0m \u001b[31m309.1 kB/s\u001b[0m eta \u001b[36m0:00:00\u001b[0ma \u001b[36m0:00:01\u001b[0m\n",
      "Downloading scikit_learn-1.6.1-cp311-cp311-manylinux_2_17_x86_64.manylinux2014_x86_64.whl (13.5 MB)\n",
      "\u001b[2K   \u001b[90m━━━━━━━━━━━━━━━━━━━━━━━━━━━━━━━━━━━━━━━━\u001b[0m \u001b[32m13.5/13.5 MB\u001b[0m \u001b[31m356.0 kB/s\u001b[0m eta \u001b[36m0:00:00\u001b[0m00:01\u001b[0m00:02\u001b[0m\n",
      "Downloading numpy-1.26.4-cp311-cp311-manylinux_2_17_x86_64.manylinux2014_x86_64.whl (18.3 MB)\n",
      "\u001b[2K   \u001b[90m━━━━━━━━━━━━━━━━━━━━━━━━━━━━━━━━━━━━━━━━\u001b[0m \u001b[32m18.3/18.3 MB\u001b[0m \u001b[31m376.2 kB/s\u001b[0m eta \u001b[36m0:00:00\u001b[0m00:01\u001b[0m00:02\u001b[0m\n",
      "Downloading appdirs-1.4.4-py2.py3-none-any.whl (9.6 kB)\n",
      "Downloading bigearthnet_encoder-0.3.0-py3-none-any.whl (8.8 kB)\n",
      "Downloading contourpy-1.3.1-cp311-cp311-manylinux_2_17_x86_64.manylinux2014_x86_64.whl (326 kB)\n",
      "Downloading cycler-0.12.1-py3-none-any.whl (8.3 kB)\n",
      "Downloading fonttools-4.56.0-cp311-cp311-manylinux_2_17_x86_64.manylinux2014_x86_64.whl (4.9 MB)\n",
      "\u001b[2K   \u001b[90m━━━━━━━━━━━━━━━━━━━━━━━━━━━━━━━━━━━━━━━━\u001b[0m \u001b[32m4.9/4.9 MB\u001b[0m \u001b[31m307.1 kB/s\u001b[0m eta \u001b[36m0:00:00\u001b[0ma \u001b[36m0:00:01\u001b[0m\n",
      "Downloading joblib-1.4.2-py3-none-any.whl (301 kB)\n",
      "Downloading kiwisolver-1.4.8-cp311-cp311-manylinux_2_17_x86_64.manylinux2014_x86_64.whl (1.4 MB)\n",
      "\u001b[2K   \u001b[90m━━━━━━━━━━━━━━━━━━━━━━━━━━━━━━━━━━━━━━━━\u001b[0m \u001b[32m1.4/1.4 MB\u001b[0m \u001b[31m368.6 kB/s\u001b[0m eta \u001b[36m0:00:00\u001b[0ma \u001b[36m0:00:01\u001b[0m\n",
      "Downloading lightning-2.5.0.post0-py3-none-any.whl (815 kB)\n",
      "\u001b[2K   \u001b[90m━━━━━━━━━━━━━━━━━━━━━━━━━━━━━━━━━━━━━━━\u001b[0m \u001b[32m815.2/815.2 kB\u001b[0m \u001b[31m282.9 kB/s\u001b[0m eta \u001b[36m0:00:00\u001b[0ma \u001b[36m0:00:01\u001b[0m\n",
      "Downloading lightning_utilities-0.12.0-py3-none-any.whl (28 kB)\n",
      "Downloading lmdb-1.6.2-cp311-cp311-manylinux_2_17_x86_64.manylinux2014_x86_64.whl (297 kB)\n",
      "Downloading pyarrow-12.0.1-cp311-cp311-manylinux_2_17_x86_64.manylinux2014_x86_64.whl (38.9 MB)\n",
      "\u001b[2K   \u001b[90m━━━━━━━━━━━━━━━━━━━━━━━━━━━━━━━━━━━━━━━━\u001b[0m \u001b[32m38.9/38.9 MB\u001b[0m \u001b[31m413.4 kB/s\u001b[0m eta \u001b[36m0:00:00\u001b[0m00:01\u001b[0m00:03\u001b[0m\n",
      "Downloading pydantic-1.10.21-cp311-cp311-manylinux_2_17_x86_64.manylinux2014_x86_64.whl (3.1 MB)\n",
      "\u001b[2K   \u001b[90m━━━━━━━━━━━━━━━━━━━━━━━━━━━━━━━━━━━━━━━━\u001b[0m \u001b[32m3.1/3.1 MB\u001b[0m \u001b[31m406.7 kB/s\u001b[0m eta \u001b[36m0:00:00\u001b[0ma \u001b[36m0:00:01\u001b[0m\n",
      "Downloading pyparsing-3.2.1-py3-none-any.whl (107 kB)\n",
      "Downloading scipy-1.15.2-cp311-cp311-manylinux_2_17_x86_64.manylinux2014_x86_64.whl (37.6 MB)\n",
      "\u001b[2K   \u001b[90m━━━━━━━━━━━━━━━━━━━━━━━━━━━━━━━━━━━━━━━━\u001b[0m \u001b[32m37.6/37.6 MB\u001b[0m \u001b[31m315.9 kB/s\u001b[0m eta \u001b[36m0:00:00\u001b[0m00:01\u001b[0m00:04\u001b[0m\n",
      "Downloading threadpoolctl-3.5.0-py3-none-any.whl (18 kB)\n",
      "Downloading timm-0.9.16-py3-none-any.whl (2.2 MB)\n",
      "\u001b[2K   \u001b[90m━━━━━━━━━━━━━━━━━━━━━━━━━━━━━━━━━━━━━━━━\u001b[0m \u001b[32m2.2/2.2 MB\u001b[0m \u001b[31m347.7 kB/s\u001b[0m eta \u001b[36m0:00:00\u001b[0ma \u001b[36m0:00:01\u001b[0m\n",
      "Downloading torchmetrics-1.6.1-py3-none-any.whl (927 kB)\n",
      "\u001b[2K   \u001b[90m━━━━━━━━━━━━━━━━━━━━━━━━━━━━━━━━━━━━━━━\u001b[0m \u001b[32m927.3/927.3 kB\u001b[0m \u001b[31m496.0 kB/s\u001b[0m eta \u001b[36m0:00:00\u001b[0ma \u001b[36m0:00:01\u001b[0m\n",
      "Downloading transformers-4.49.0-py3-none-any.whl (10.0 MB)\n",
      "\u001b[2K   \u001b[90m━━━━━━━━━━━━━━━━━━━━━━━━━━━━━━━━━━━━━━━━\u001b[0m \u001b[32m10.0/10.0 MB\u001b[0m \u001b[31m367.1 kB/s\u001b[0m eta \u001b[36m0:00:00\u001b[0m \u001b[36m0:00:01\u001b[0m\n",
      "Downloading tzdata-2025.1-py2.py3-none-any.whl (346 kB)\n",
      "Downloading configilm-0.7.0-py3-none-any.whl (55.3 MB)\n",
      "\u001b[2K   \u001b[90m━━━━━━━━━━━━━━━━━━━━━━━━━━━━━━━━━━━━━━━━\u001b[0m \u001b[32m6.8/6.8 MB\u001b[0m \u001b[31m343.5 kB/s\u001b[0m eta \u001b[36m0:00:00\u001b[0ma \u001b[36m0:00:01\u001b[0m0m\n",
      "Downloading bigearthnet_patch_interface-0.1.2-py3-none-any.whl (140 kB)\n",
      "Downloading fastcore-1.7.29-py3-none-any.whl (84 kB)\n",
      "Downloading huggingface_hub-0.29.1-py3-none-any.whl (468 kB)\n",
      "Downloading rasterio-1.4.3-cp311-cp311-manylinux_2_17_x86_64.manylinux2014_x86_64.whl (22.2 MB)\n",
      "\u001b[2K   \u001b[90m━━━━━━━━━━━━━━━━━━━━━━━━━━━━━━━━━━━━━━━━\u001b[0m \u001b[32m22.2/22.2 MB\u001b[0m \u001b[31m425.9 kB/s\u001b[0m eta \u001b[36m0:00:00\u001b[0m00:01\u001b[0m00:02\u001b[0m\n",
      "Downloading regex-2024.11.6-cp311-cp311-manylinux_2_17_x86_64.manylinux2014_x86_64.whl (792 kB)\n",
      "\u001b[2K   \u001b[90m━━━━━━━━━━━━━━━━━━━━━━━━━━━━━━━━━━━━━━━\u001b[0m \u001b[32m792.7/792.7 kB\u001b[0m \u001b[31m546.1 kB/s\u001b[0m eta \u001b[36m0:00:00\u001b[0ma \u001b[36m0:00:01\u001b[0m\n",
      "Downloading safetensors-0.5.2-cp38-abi3-manylinux_2_17_x86_64.manylinux2014_x86_64.whl (461 kB)\n",
      "Downloading tokenizers-0.21.0-cp39-abi3-manylinux_2_17_x86_64.manylinux2014_x86_64.whl (3.0 MB)\n",
      "\u001b[2K   \u001b[90m━━━━━━━━━━━━━━━━━━━━━━━━━━━━━━━━━━━━━━━━\u001b[0m \u001b[32m3.0/3.0 MB\u001b[0m \u001b[31m334.1 kB/s\u001b[0m eta \u001b[36m0:00:00\u001b[0ma \u001b[36m0:00:01\u001b[0m\n",
      "Downloading typer-0.15.1-py3-none-any.whl (44 kB)\n",
      "Downloading aiohappyeyeballs-2.4.6-py3-none-any.whl (14 kB)\n",
      "Downloading aiosignal-1.3.2-py2.py3-none-any.whl (7.6 kB)\n",
      "Downloading cligj-0.7.2-py3-none-any.whl (7.1 kB)\n",
      "Downloading frozenlist-1.5.0-cp311-cp311-manylinux_2_5_x86_64.manylinux1_x86_64.manylinux_2_17_x86_64.manylinux2014_x86_64.whl (274 kB)\n",
      "Downloading multidict-6.1.0-cp311-cp311-manylinux_2_17_x86_64.manylinux2014_x86_64.whl (129 kB)\n",
      "Downloading natsort-8.4.0-py3-none-any.whl (38 kB)\n",
      "Downloading propcache-0.3.0-cp311-cp311-manylinux_2_17_x86_64.manylinux2014_x86_64.whl (231 kB)\n",
      "Downloading rich-13.9.4-py3-none-any.whl (242 kB)\n",
      "Downloading shellingham-1.5.4-py2.py3-none-any.whl (9.8 kB)\n",
      "Downloading yarl-1.18.3-cp311-cp311-manylinux_2_17_x86_64.manylinux2014_x86_64.whl (344 kB)\n",
      "Downloading affine-2.4.0-py3-none-any.whl (15 kB)\n",
      "Downloading click_plugins-1.1.1-py2.py3-none-any.whl (7.5 kB)\n",
      "Downloading markdown_it_py-3.0.0-py3-none-any.whl (87 kB)\n",
      "Downloading mdurl-0.1.2-py3-none-any.whl (10.0 kB)\n",
      "Installing collected packages: lmdb, appdirs, tzdata, threadpoolctl, shellingham, safetensors, regex, pyparsing, pydantic, propcache, numpy, natsort, multidict, mdurl, lightning-utilities, kiwisolver, joblib, frozenlist, fonttools, fastcore, einops, cycler, cligj, click-plugins, aiohappyeyeballs, affine, yarl, scipy, rasterio, pyarrow, pandas, markdown-it-py, huggingface_hub, h5py, contourpy, bigearthnet-patch-interface, aiosignal, tokenizers, scikit-learn, rich, matplotlib, aiohttp, typer, transformers, torchmetrics, timm, pytorch-lightning, lightning, configilm, bigearthnet-common, bigearthnet-encoder\n",
      "  Attempting uninstall: numpy\n",
      "    Found existing installation: numpy 2.1.2\n",
      "    Uninstalling numpy-2.1.2:\n",
      "      Successfully uninstalled numpy-2.1.2\n",
      "Successfully installed affine-2.4.0 aiohappyeyeballs-2.4.6 aiohttp-3.11.12 aiosignal-1.3.2 appdirs-1.4.4 bigearthnet-common-2.8.0 bigearthnet-encoder-0.3.0 bigearthnet-patch-interface-0.1.2 click-plugins-1.1.1 cligj-0.7.2 configilm-0.7.0 contourpy-1.3.1 cycler-0.12.1 einops-0.8.1 fastcore-1.7.29 fonttools-4.56.0 frozenlist-1.5.0 h5py-3.13.0 huggingface_hub-0.29.1 joblib-1.4.2 kiwisolver-1.4.8 lightning-2.5.0.post0 lightning-utilities-0.12.0 lmdb-1.6.2 markdown-it-py-3.0.0 matplotlib-3.10.0 mdurl-0.1.2 multidict-6.1.0 natsort-8.4.0 numpy-1.26.4 pandas-2.2.3 propcache-0.3.0 pyarrow-12.0.1 pydantic-1.10.21 pyparsing-3.2.1 pytorch-lightning-2.5.0.post0 rasterio-1.4.3 regex-2024.11.6 rich-13.9.4 safetensors-0.5.2 scikit-learn-1.6.1 scipy-1.15.2 shellingham-1.5.4 threadpoolctl-3.5.0 timm-0.9.16 tokenizers-0.21.0 torchmetrics-1.6.1 transformers-4.49.0 typer-0.15.1 tzdata-2025.1 yarl-1.18.3\n",
      "\u001b[33mWARNING: Running pip as the 'root' user can result in broken permissions and conflicting behaviour with the system package manager, possibly rendering your system unusable.It is recommended to use a virtual environment instead: https://pip.pypa.io/warnings/venv. Use the --root-user-action option if you know what you are doing and want to suppress this warning.\u001b[0m\u001b[33m\n",
      "\u001b[33mWARNING: Skipping wandb as it is not installed.\u001b[0m\u001b[33m\n",
      "\u001b[0m\u001b[33mWARNING: Running pip as the 'root' user can result in broken permissions and conflicting behaviour with the system package manager, possibly rendering your system unusable.It is recommended to use a virtual environment instead: https://pip.pypa.io/warnings/venv. Use the --root-user-action option if you know what you are doing and want to suppress this warning.\u001b[0m\u001b[33m\n",
      "Collecting wandb==0.15.12\n",
      "  Downloading wandb-0.15.12-py3-none-any.whl.metadata (9.8 kB)\n",
      "Requirement already satisfied: Click!=8.0.0,>=7.1 in /opt/conda/lib/python3.11/site-packages (from wandb==0.15.12) (8.1.7)\n",
      "Collecting GitPython!=3.1.29,>=1.0.0 (from wandb==0.15.12)\n",
      "  Downloading GitPython-3.1.44-py3-none-any.whl.metadata (13 kB)\n",
      "Requirement already satisfied: requests<3,>=2.0.0 in /opt/conda/lib/python3.11/site-packages (from wandb==0.15.12) (2.32.3)\n",
      "Requirement already satisfied: psutil>=5.0.0 in /opt/conda/lib/python3.11/site-packages (from wandb==0.15.12) (6.1.0)\n",
      "Collecting sentry-sdk>=1.0.0 (from wandb==0.15.12)\n",
      "  Downloading sentry_sdk-2.22.0-py2.py3-none-any.whl.metadata (10 kB)\n",
      "Collecting docker-pycreds>=0.4.0 (from wandb==0.15.12)\n",
      "  Downloading docker_pycreds-0.4.0-py2.py3-none-any.whl.metadata (1.8 kB)\n",
      "Requirement already satisfied: PyYAML in /opt/conda/lib/python3.11/site-packages (from wandb==0.15.12) (6.0.2)\n",
      "Collecting pathtools (from wandb==0.15.12)\n",
      "  Downloading pathtools-0.1.2.tar.gz (11 kB)\n",
      "  Preparing metadata (setup.py) ... \u001b[?25ldone\n",
      "\u001b[?25hCollecting setproctitle (from wandb==0.15.12)\n",
      "  Downloading setproctitle-1.3.5-cp311-cp311-manylinux_2_5_x86_64.manylinux1_x86_64.manylinux_2_17_x86_64.manylinux2014_x86_64.whl.metadata (10 kB)\n",
      "Requirement already satisfied: setuptools in /opt/conda/lib/python3.11/site-packages (from wandb==0.15.12) (72.1.0)\n",
      "Requirement already satisfied: appdirs>=1.4.3 in /opt/conda/lib/python3.11/site-packages (from wandb==0.15.12) (1.4.4)\n",
      "Collecting protobuf!=4.21.0,<5,>=3.19.0 (from wandb==0.15.12)\n",
      "  Downloading protobuf-4.25.6-cp37-abi3-manylinux2014_x86_64.whl.metadata (541 bytes)\n",
      "Requirement already satisfied: six>=1.4.0 in /opt/conda/lib/python3.11/site-packages (from docker-pycreds>=0.4.0->wandb==0.15.12) (1.16.0)\n",
      "Collecting gitdb<5,>=4.0.1 (from GitPython!=3.1.29,>=1.0.0->wandb==0.15.12)\n",
      "  Downloading gitdb-4.0.12-py3-none-any.whl.metadata (1.2 kB)\n",
      "Requirement already satisfied: charset-normalizer<4,>=2 in /opt/conda/lib/python3.11/site-packages (from requests<3,>=2.0.0->wandb==0.15.12) (3.4.0)\n",
      "Requirement already satisfied: idna<4,>=2.5 in /opt/conda/lib/python3.11/site-packages (from requests<3,>=2.0.0->wandb==0.15.12) (3.10)\n",
      "Requirement already satisfied: urllib3<3,>=1.21.1 in /opt/conda/lib/python3.11/site-packages (from requests<3,>=2.0.0->wandb==0.15.12) (2.2.3)\n",
      "Requirement already satisfied: certifi>=2017.4.17 in /opt/conda/lib/python3.11/site-packages (from requests<3,>=2.0.0->wandb==0.15.12) (2024.8.30)\n",
      "Collecting smmap<6,>=3.0.1 (from gitdb<5,>=4.0.1->GitPython!=3.1.29,>=1.0.0->wandb==0.15.12)\n",
      "  Downloading smmap-5.0.2-py3-none-any.whl.metadata (4.3 kB)\n",
      "Downloading wandb-0.15.12-py3-none-any.whl (2.1 MB)\n",
      "\u001b[2K   \u001b[90m━━━━━━━━━━━━━━━━━━━━━━━━━━━━━━━━━━━━━━━━\u001b[0m \u001b[32m2.1/2.1 MB\u001b[0m \u001b[31m17.2 MB/s\u001b[0m eta \u001b[36m0:00:00\u001b[0m\n",
      "Downloading docker_pycreds-0.4.0-py2.py3-none-any.whl (9.0 kB)\n",
      "Downloading GitPython-3.1.44-py3-none-any.whl (207 kB)\n",
      "Downloading protobuf-4.25.6-cp37-abi3-manylinux2014_x86_64.whl (294 kB)\n",
      "Downloading sentry_sdk-2.22.0-py2.py3-none-any.whl (325 kB)\n",
      "Downloading setproctitle-1.3.5-cp311-cp311-manylinux_2_5_x86_64.manylinux1_x86_64.manylinux_2_17_x86_64.manylinux2014_x86_64.whl (31 kB)\n",
      "Downloading gitdb-4.0.12-py3-none-any.whl (62 kB)\n",
      "Downloading smmap-5.0.2-py3-none-any.whl (24 kB)\n",
      "Building wheels for collected packages: pathtools\n",
      "  Building wheel for pathtools (setup.py) ... \u001b[?25ldone\n",
      "\u001b[?25h  Created wheel for pathtools: filename=pathtools-0.1.2-py3-none-any.whl size=8792 sha256=2aadec6944ed9e4af712f220183c9b00024e038c7f5a3c12d3208dbd0b4aab46\n",
      "  Stored in directory: /root/.cache/pip/wheels/ea/b7/8b/84e94095ea418b9442f5abeba4ca7b0ad52d3fe7b69d6238a6\n",
      "Successfully built pathtools\n",
      "Installing collected packages: pathtools, smmap, setproctitle, sentry-sdk, protobuf, docker-pycreds, gitdb, GitPython, wandb\n",
      "Successfully installed GitPython-3.1.44 docker-pycreds-0.4.0 gitdb-4.0.12 pathtools-0.1.2 protobuf-4.25.6 sentry-sdk-2.22.0 setproctitle-1.3.5 smmap-5.0.2 wandb-0.15.12\n",
      "\u001b[33mWARNING: Running pip as the 'root' user can result in broken permissions and conflicting behaviour with the system package manager, possibly rendering your system unusable.It is recommended to use a virtual environment instead: https://pip.pypa.io/warnings/venv. Use the --root-user-action option if you know what you are doing and want to suppress this warning.\u001b[0m\u001b[33m\n",
      "\u001b[0m"
     ]
    }
   ],
   "source": [
    "!pip install einops matplotlib pandas h5py pytorch-lightning \"configilm[full]\" scikit-learn numpy matplotlib\n",
    "!pip uninstall wandb -y\n",
    "!pip install wandb==0.15.12\n"
   ]
  },
  {
   "cell_type": "code",
   "execution_count": null,
   "id": "38a669a6",
   "metadata": {},
   "outputs": [],
   "source": []
  },
  {
   "cell_type": "code",
   "execution_count": 1,
   "id": "c7fb9265",
   "metadata": {
    "scrolled": true
   },
   "outputs": [
    {
     "name": "stderr",
     "output_type": "stream",
     "text": [
      "Failed to detect the name of this notebook, you can set it manually with the WANDB_NOTEBOOK_NAME environment variable to enable code saving.\n",
      "\u001b[34m\u001b[1mwandb\u001b[0m: Currently logged in as: \u001b[33mhugordet\u001b[0m (\u001b[33mhugordet-inria\u001b[0m). Use \u001b[1m`wandb login --relogin`\u001b[0m to force relogin\n"
     ]
    },
    {
     "data": {
      "text/html": [
       "wandb version 0.19.5 is available!  To upgrade, please run:\n",
       " $ pip install wandb --upgrade"
      ],
      "text/plain": [
       "<IPython.core.display.HTML object>"
      ]
     },
     "metadata": {},
     "output_type": "display_data"
    },
    {
     "data": {
      "text/html": [
       "Tracking run with wandb version 0.15.12"
      ],
      "text/plain": [
       "<IPython.core.display.HTML object>"
      ]
     },
     "metadata": {},
     "output_type": "display_data"
    },
    {
     "data": {
      "text/html": [
       "Run data is saved locally in <code>/home/Per-Sent-1-2/wandb/run-20250131_134107-4u71dbq3</code>"
      ],
      "text/plain": [
       "<IPython.core.display.HTML object>"
      ]
     },
     "metadata": {},
     "output_type": "display_data"
    },
    {
     "data": {
      "text/html": [
       "Syncing run <strong><a href='https://wandb.ai/hugordet-inria/first_xp/runs/4u71dbq3' target=\"_blank\">ViT- 13:41:06 31/01 modalities</a></strong> to <a href='https://wandb.ai/hugordet-inria/first_xp' target=\"_blank\">Weights & Biases</a> (<a href='https://wandb.me/run' target=\"_blank\">docs</a>)<br/>"
      ],
      "text/plain": [
       "<IPython.core.display.HTML object>"
      ]
     },
     "metadata": {},
     "output_type": "display_data"
    },
    {
     "data": {
      "text/html": [
       " View project at <a href='https://wandb.ai/hugordet-inria/first_xp' target=\"_blank\">https://wandb.ai/hugordet-inria/first_xp</a>"
      ],
      "text/plain": [
       "<IPython.core.display.HTML object>"
      ]
     },
     "metadata": {},
     "output_type": "display_data"
    },
    {
     "data": {
      "text/html": [
       " View run at <a href='https://wandb.ai/hugordet-inria/first_xp/runs/4u71dbq3' target=\"_blank\">https://wandb.ai/hugordet-inria/first_xp/runs/4u71dbq3</a>"
      ],
      "text/plain": [
       "<IPython.core.display.HTML object>"
      ]
     },
     "metadata": {},
     "output_type": "display_data"
    },
    {
     "name": "stderr",
     "output_type": "stream",
     "text": [
      "GPU available: True (cuda), used: True\n",
      "TPU available: False, using: 0 TPU cores\n",
      "HPU available: False, using: 0 HPUs\n",
      "/opt/conda/lib/python3.11/site-packages/pytorch_lightning/loggers/wandb.py:397: There is a wandb run already in progress and newly created instances of `WandbLogger` will reuse this run. If this is not desired, call `wandb.finish()` before instantiating `WandbLogger`.\n",
      "LOCAL_RANK: 0 - CUDA_VISIBLE_DEVICES: [0]\n",
      "\n",
      "  | Name    | Type              | Params | Mode \n",
      "------------------------------------------------------\n",
      "0 | encoder | SimpleViT         | 4.9 M  | train\n",
      "1 | loss    | BCEWithLogitsLoss | 0      | train\n",
      "------------------------------------------------------\n",
      "4.9 M     Trainable params\n",
      "0         Non-trainable params\n",
      "4.9 M     Total params\n",
      "19.646    Total estimated model params size (MB)\n",
      "109       Modules in train mode\n",
      "0         Modules in eval mode\n"
     ]
    },
    {
     "data": {
      "application/vnd.jupyter.widget-view+json": {
       "model_id": "1e8da5ab2a0d4f94a31f15767f2edf72",
       "version_major": 2,
       "version_minor": 0
      },
      "text/plain": [
       "Sanity Checking: |          | 0/? [00:00<?, ?it/s]"
      ]
     },
     "metadata": {},
     "output_type": "display_data"
    },
    {
     "data": {
      "application/vnd.jupyter.widget-view+json": {
       "model_id": "3524ed249dd84e69bc2d7a2999651d90",
       "version_major": 2,
       "version_minor": 0
      },
      "text/plain": [
       "Training: |          | 0/? [00:00<?, ?it/s]"
      ]
     },
     "metadata": {},
     "output_type": "display_data"
    },
    {
     "data": {
      "application/vnd.jupyter.widget-view+json": {
       "model_id": "cab7ab40908b4652b1d45ede4a15092f",
       "version_major": 2,
       "version_minor": 0
      },
      "text/plain": [
       "Validation: |          | 0/? [00:00<?, ?it/s]"
      ]
     },
     "metadata": {},
     "output_type": "display_data"
    },
    {
     "data": {
      "application/vnd.jupyter.widget-view+json": {
       "model_id": "e07989d8669e4b4b9f09da914cfbc2d8",
       "version_major": 2,
       "version_minor": 0
      },
      "text/plain": [
       "Validation: |          | 0/? [00:00<?, ?it/s]"
      ]
     },
     "metadata": {},
     "output_type": "display_data"
    },
    {
     "data": {
      "application/vnd.jupyter.widget-view+json": {
       "model_id": "ba3aa5fe3f1f43f8a8cef98d29d86d79",
       "version_major": 2,
       "version_minor": 0
      },
      "text/plain": [
       "Validation: |          | 0/? [00:00<?, ?it/s]"
      ]
     },
     "metadata": {},
     "output_type": "display_data"
    },
    {
     "data": {
      "application/vnd.jupyter.widget-view+json": {
       "model_id": "c90f0bf9a90e4d07bd81d8559f1d487c",
       "version_major": 2,
       "version_minor": 0
      },
      "text/plain": [
       "Validation: |          | 0/? [00:00<?, ?it/s]"
      ]
     },
     "metadata": {},
     "output_type": "display_data"
    },
    {
     "data": {
      "application/vnd.jupyter.widget-view+json": {
       "model_id": "3d1b077826ad47f59426f24f56751a59",
       "version_major": 2,
       "version_minor": 0
      },
      "text/plain": [
       "Validation: |          | 0/? [00:00<?, ?it/s]"
      ]
     },
     "metadata": {},
     "output_type": "display_data"
    },
    {
     "name": "stderr",
     "output_type": "stream",
     "text": [
      "`Trainer.fit` stopped: `max_epochs=5` reached.\n",
      "LOCAL_RANK: 0 - CUDA_VISIBLE_DEVICES: [0]\n"
     ]
    },
    {
     "data": {
      "application/vnd.jupyter.widget-view+json": {
       "model_id": "0399e56a2395485c9c40d3db6d46e35c",
       "version_major": 2,
       "version_minor": 0
      },
      "text/plain": [
       "Testing: |          | 0/? [00:00<?, ?it/s]"
      ]
     },
     "metadata": {},
     "output_type": "display_data"
    },
    {
     "data": {
      "text/html": [
       "<pre style=\"white-space:pre;overflow-x:auto;line-height:normal;font-family:Menlo,'DejaVu Sans Mono',consolas,'Courier New',monospace\">┏━━━━━━━━━━━━━━━━━━━━━━━━━━━━━━━━━━━━━━━━━━━━━━━━━━━┳━━━━━━━━━━━━━━━━━━━━━━━━━━━━━━━━━━━━━━━━━━━━━━━━━━━┓\n",
       "┃<span style=\"font-weight: bold\">                    Test metric                    </span>┃<span style=\"font-weight: bold\">                   DataLoader 0                    </span>┃\n",
       "┡━━━━━━━━━━━━━━━━━━━━━━━━━━━━━━━━━━━━━━━━━━━━━━━━━━━╇━━━━━━━━━━━━━━━━━━━━━━━━━━━━━━━━━━━━━━━━━━━━━━━━━━━┩\n",
       "│<span style=\"color: #008080; text-decoration-color: #008080\">             test ,modality: test mAP              </span>│<span style=\"color: #800080; text-decoration-color: #800080\">                25.878774642944336                 </span>│\n",
       "│<span style=\"color: #008080; text-decoration-color: #008080\">       test ,modality: test overall accuracy       </span>│<span style=\"color: #800080; text-decoration-color: #800080\">                 86.79501342773438                 </span>│\n",
       "│<span style=\"color: #008080; text-decoration-color: #008080\">             test ,modality: train mAP             </span>│<span style=\"color: #800080; text-decoration-color: #800080\">                 37.07234573364258                 </span>│\n",
       "│<span style=\"color: #008080; text-decoration-color: #008080\">      test ,modality: train overall accuracy       </span>│<span style=\"color: #800080; text-decoration-color: #800080\">                 88.29085540771484                 </span>│\n",
       "│<span style=\"color: #008080; text-decoration-color: #008080\">          test ,modality: validation mAP           </span>│<span style=\"color: #800080; text-decoration-color: #800080\">                27.795169830322266                 </span>│\n",
       "│<span style=\"color: #008080; text-decoration-color: #008080\">    test ,modality: validation overall accuracy    </span>│<span style=\"color: #800080; text-decoration-color: #800080\">                 87.40442657470703                 </span>│\n",
       "│<span style=\"color: #008080; text-decoration-color: #008080\">                     test_acc                      </span>│<span style=\"color: #800080; text-decoration-color: #800080\">                 86.79498291015625                 </span>│\n",
       "│<span style=\"color: #008080; text-decoration-color: #008080\">           test_mean_precision_per_class           </span>│<span style=\"color: #800080; text-decoration-color: #800080\">                 35.81576156616211                 </span>│\n",
       "│<span style=\"color: #008080; text-decoration-color: #008080\">             train ,modality: test mAP             </span>│<span style=\"color: #800080; text-decoration-color: #800080\">                 36.1055908203125                  </span>│\n",
       "│<span style=\"color: #008080; text-decoration-color: #008080\">      train ,modality: test overall accuracy       </span>│<span style=\"color: #800080; text-decoration-color: #800080\">                 91.44044494628906                 </span>│\n",
       "│<span style=\"color: #008080; text-decoration-color: #008080\">            train ,modality: train mAP             </span>│<span style=\"color: #800080; text-decoration-color: #800080\">                 60.02984619140625                 </span>│\n",
       "│<span style=\"color: #008080; text-decoration-color: #008080\">      train ,modality: train overall accuracy      </span>│<span style=\"color: #800080; text-decoration-color: #800080\">                 93.24930572509766                 </span>│\n",
       "│<span style=\"color: #008080; text-decoration-color: #008080\">          train ,modality: validation mAP          </span>│<span style=\"color: #800080; text-decoration-color: #800080\">                31.252052307128906                 </span>│\n",
       "│<span style=\"color: #008080; text-decoration-color: #008080\">   train ,modality: validation overall accuracy    </span>│<span style=\"color: #800080; text-decoration-color: #800080\">                 91.45429229736328                 </span>│\n",
       "│<span style=\"color: #008080; text-decoration-color: #008080\">          train_mean_precision_per_class           </span>│<span style=\"color: #800080; text-decoration-color: #800080\">                52.975189208984375                 </span>│\n",
       "│<span style=\"color: #008080; text-decoration-color: #008080\">          validation ,modality: test mAP           </span>│<span style=\"color: #800080; text-decoration-color: #800080\">                26.172794342041016                 </span>│\n",
       "│<span style=\"color: #008080; text-decoration-color: #008080\">    validation ,modality: test overall accuracy    </span>│<span style=\"color: #800080; text-decoration-color: #800080\">                 88.9473648071289                  </span>│\n",
       "│<span style=\"color: #008080; text-decoration-color: #008080\">          validation ,modality: train mAP          </span>│<span style=\"color: #800080; text-decoration-color: #800080\">                 40.0648193359375                  </span>│\n",
       "│<span style=\"color: #008080; text-decoration-color: #008080\">   validation ,modality: train overall accuracy    </span>│<span style=\"color: #800080; text-decoration-color: #800080\">                 90.45152282714844                 </span>│\n",
       "│<span style=\"color: #008080; text-decoration-color: #008080\">       validation ,modality: validation mAP        </span>│<span style=\"color: #800080; text-decoration-color: #800080\">                26.610273361206055                 </span>│\n",
       "│<span style=\"color: #008080; text-decoration-color: #008080\"> validation ,modality: validation overall accuracy </span>│<span style=\"color: #800080; text-decoration-color: #800080\">                 89.40719604492188                 </span>│\n",
       "│<span style=\"color: #008080; text-decoration-color: #008080\">        validation_mean_precision_per_class        </span>│<span style=\"color: #800080; text-decoration-color: #800080\">                 36.99302673339844                 </span>│\n",
       "└───────────────────────────────────────────────────┴───────────────────────────────────────────────────┘\n",
       "</pre>\n"
      ],
      "text/plain": [
       "┏━━━━━━━━━━━━━━━━━━━━━━━━━━━━━━━━━━━━━━━━━━━━━━━━━━━┳━━━━━━━━━━━━━━━━━━━━━━━━━━━━━━━━━━━━━━━━━━━━━━━━━━━┓\n",
       "┃\u001b[1m \u001b[0m\u001b[1m                   Test metric                   \u001b[0m\u001b[1m \u001b[0m┃\u001b[1m \u001b[0m\u001b[1m                  DataLoader 0                   \u001b[0m\u001b[1m \u001b[0m┃\n",
       "┡━━━━━━━━━━━━━━━━━━━━━━━━━━━━━━━━━━━━━━━━━━━━━━━━━━━╇━━━━━━━━━━━━━━━━━━━━━━━━━━━━━━━━━━━━━━━━━━━━━━━━━━━┩\n",
       "│\u001b[36m \u001b[0m\u001b[36m            test ,modality: test mAP             \u001b[0m\u001b[36m \u001b[0m│\u001b[35m \u001b[0m\u001b[35m               25.878774642944336                \u001b[0m\u001b[35m \u001b[0m│\n",
       "│\u001b[36m \u001b[0m\u001b[36m      test ,modality: test overall accuracy      \u001b[0m\u001b[36m \u001b[0m│\u001b[35m \u001b[0m\u001b[35m                86.79501342773438                \u001b[0m\u001b[35m \u001b[0m│\n",
       "│\u001b[36m \u001b[0m\u001b[36m            test ,modality: train mAP            \u001b[0m\u001b[36m \u001b[0m│\u001b[35m \u001b[0m\u001b[35m                37.07234573364258                \u001b[0m\u001b[35m \u001b[0m│\n",
       "│\u001b[36m \u001b[0m\u001b[36m     test ,modality: train overall accuracy      \u001b[0m\u001b[36m \u001b[0m│\u001b[35m \u001b[0m\u001b[35m                88.29085540771484                \u001b[0m\u001b[35m \u001b[0m│\n",
       "│\u001b[36m \u001b[0m\u001b[36m         test ,modality: validation mAP          \u001b[0m\u001b[36m \u001b[0m│\u001b[35m \u001b[0m\u001b[35m               27.795169830322266                \u001b[0m\u001b[35m \u001b[0m│\n",
       "│\u001b[36m \u001b[0m\u001b[36m   test ,modality: validation overall accuracy   \u001b[0m\u001b[36m \u001b[0m│\u001b[35m \u001b[0m\u001b[35m                87.40442657470703                \u001b[0m\u001b[35m \u001b[0m│\n",
       "│\u001b[36m \u001b[0m\u001b[36m                    test_acc                     \u001b[0m\u001b[36m \u001b[0m│\u001b[35m \u001b[0m\u001b[35m                86.79498291015625                \u001b[0m\u001b[35m \u001b[0m│\n",
       "│\u001b[36m \u001b[0m\u001b[36m          test_mean_precision_per_class          \u001b[0m\u001b[36m \u001b[0m│\u001b[35m \u001b[0m\u001b[35m                35.81576156616211                \u001b[0m\u001b[35m \u001b[0m│\n",
       "│\u001b[36m \u001b[0m\u001b[36m            train ,modality: test mAP            \u001b[0m\u001b[36m \u001b[0m│\u001b[35m \u001b[0m\u001b[35m                36.1055908203125                 \u001b[0m\u001b[35m \u001b[0m│\n",
       "│\u001b[36m \u001b[0m\u001b[36m     train ,modality: test overall accuracy      \u001b[0m\u001b[36m \u001b[0m│\u001b[35m \u001b[0m\u001b[35m                91.44044494628906                \u001b[0m\u001b[35m \u001b[0m│\n",
       "│\u001b[36m \u001b[0m\u001b[36m           train ,modality: train mAP            \u001b[0m\u001b[36m \u001b[0m│\u001b[35m \u001b[0m\u001b[35m                60.02984619140625                \u001b[0m\u001b[35m \u001b[0m│\n",
       "│\u001b[36m \u001b[0m\u001b[36m     train ,modality: train overall accuracy     \u001b[0m\u001b[36m \u001b[0m│\u001b[35m \u001b[0m\u001b[35m                93.24930572509766                \u001b[0m\u001b[35m \u001b[0m│\n",
       "│\u001b[36m \u001b[0m\u001b[36m         train ,modality: validation mAP         \u001b[0m\u001b[36m \u001b[0m│\u001b[35m \u001b[0m\u001b[35m               31.252052307128906                \u001b[0m\u001b[35m \u001b[0m│\n",
       "│\u001b[36m \u001b[0m\u001b[36m  train ,modality: validation overall accuracy   \u001b[0m\u001b[36m \u001b[0m│\u001b[35m \u001b[0m\u001b[35m                91.45429229736328                \u001b[0m\u001b[35m \u001b[0m│\n",
       "│\u001b[36m \u001b[0m\u001b[36m         train_mean_precision_per_class          \u001b[0m\u001b[36m \u001b[0m│\u001b[35m \u001b[0m\u001b[35m               52.975189208984375                \u001b[0m\u001b[35m \u001b[0m│\n",
       "│\u001b[36m \u001b[0m\u001b[36m         validation ,modality: test mAP          \u001b[0m\u001b[36m \u001b[0m│\u001b[35m \u001b[0m\u001b[35m               26.172794342041016                \u001b[0m\u001b[35m \u001b[0m│\n",
       "│\u001b[36m \u001b[0m\u001b[36m   validation ,modality: test overall accuracy   \u001b[0m\u001b[36m \u001b[0m│\u001b[35m \u001b[0m\u001b[35m                88.9473648071289                 \u001b[0m\u001b[35m \u001b[0m│\n",
       "│\u001b[36m \u001b[0m\u001b[36m         validation ,modality: train mAP         \u001b[0m\u001b[36m \u001b[0m│\u001b[35m \u001b[0m\u001b[35m                40.0648193359375                 \u001b[0m\u001b[35m \u001b[0m│\n",
       "│\u001b[36m \u001b[0m\u001b[36m  validation ,modality: train overall accuracy   \u001b[0m\u001b[36m \u001b[0m│\u001b[35m \u001b[0m\u001b[35m                90.45152282714844                \u001b[0m\u001b[35m \u001b[0m│\n",
       "│\u001b[36m \u001b[0m\u001b[36m      validation ,modality: validation mAP       \u001b[0m\u001b[36m \u001b[0m│\u001b[35m \u001b[0m\u001b[35m               26.610273361206055                \u001b[0m\u001b[35m \u001b[0m│\n",
       "│\u001b[36m \u001b[0m\u001b[36mvalidation ,modality: validation overall accuracy\u001b[0m\u001b[36m \u001b[0m│\u001b[35m \u001b[0m\u001b[35m                89.40719604492188                \u001b[0m\u001b[35m \u001b[0m│\n",
       "│\u001b[36m \u001b[0m\u001b[36m       validation_mean_precision_per_class       \u001b[0m\u001b[36m \u001b[0m│\u001b[35m \u001b[0m\u001b[35m                36.99302673339844                \u001b[0m\u001b[35m \u001b[0m│\n",
       "└───────────────────────────────────────────────────┴───────────────────────────────────────────────────┘\n"
      ]
     },
     "metadata": {},
     "output_type": "display_data"
    },
    {
     "name": "stderr",
     "output_type": "stream",
     "text": [
      "LOCAL_RANK: 0 - CUDA_VISIBLE_DEVICES: [0]\n"
     ]
    },
    {
     "data": {
      "application/vnd.jupyter.widget-view+json": {
       "model_id": "915cd1f848124f9da846859b6f9aa57e",
       "version_major": 2,
       "version_minor": 0
      },
      "text/plain": [
       "Testing: |          | 0/? [00:00<?, ?it/s]"
      ]
     },
     "metadata": {},
     "output_type": "display_data"
    },
    {
     "data": {
      "text/html": [
       "<pre style=\"white-space:pre;overflow-x:auto;line-height:normal;font-family:Menlo,'DejaVu Sans Mono',consolas,'Courier New',monospace\">┏━━━━━━━━━━━━━━━━━━━━━━━━━━━━━━━━━━━━━━━━━━━━━━━━━━━┳━━━━━━━━━━━━━━━━━━━━━━━━━━━━━━━━━━━━━━━━━━━━━━━━━━━┓\n",
       "┃<span style=\"font-weight: bold\">                    Test metric                    </span>┃<span style=\"font-weight: bold\">                   DataLoader 0                    </span>┃\n",
       "┡━━━━━━━━━━━━━━━━━━━━━━━━━━━━━━━━━━━━━━━━━━━━━━━━━━━╇━━━━━━━━━━━━━━━━━━━━━━━━━━━━━━━━━━━━━━━━━━━━━━━━━━━┩\n",
       "│<span style=\"color: #008080; text-decoration-color: #008080\">             test ,modality: test mAP              </span>│<span style=\"color: #800080; text-decoration-color: #800080\">                25.878774642944336                 </span>│\n",
       "│<span style=\"color: #008080; text-decoration-color: #008080\">       test ,modality: test overall accuracy       </span>│<span style=\"color: #800080; text-decoration-color: #800080\">                 86.79501342773438                 </span>│\n",
       "│<span style=\"color: #008080; text-decoration-color: #008080\">             test ,modality: train mAP             </span>│<span style=\"color: #800080; text-decoration-color: #800080\">                 37.07234573364258                 </span>│\n",
       "│<span style=\"color: #008080; text-decoration-color: #008080\">      test ,modality: train overall accuracy       </span>│<span style=\"color: #800080; text-decoration-color: #800080\">                 88.29085540771484                 </span>│\n",
       "│<span style=\"color: #008080; text-decoration-color: #008080\">          test ,modality: validation mAP           </span>│<span style=\"color: #800080; text-decoration-color: #800080\">                27.795169830322266                 </span>│\n",
       "│<span style=\"color: #008080; text-decoration-color: #008080\">    test ,modality: validation overall accuracy    </span>│<span style=\"color: #800080; text-decoration-color: #800080\">                 87.40442657470703                 </span>│\n",
       "│<span style=\"color: #008080; text-decoration-color: #008080\">                     test_acc                      </span>│<span style=\"color: #800080; text-decoration-color: #800080\">                 86.79498291015625                 </span>│\n",
       "│<span style=\"color: #008080; text-decoration-color: #008080\">           test_mean_precision_per_class           </span>│<span style=\"color: #800080; text-decoration-color: #800080\">                 35.81576156616211                 </span>│\n",
       "│<span style=\"color: #008080; text-decoration-color: #008080\">             train ,modality: test mAP             </span>│<span style=\"color: #800080; text-decoration-color: #800080\">                 36.2852668762207                  </span>│\n",
       "│<span style=\"color: #008080; text-decoration-color: #008080\">      train ,modality: test overall accuracy       </span>│<span style=\"color: #800080; text-decoration-color: #800080\">                 91.46537017822266                 </span>│\n",
       "│<span style=\"color: #008080; text-decoration-color: #008080\">            train ,modality: train mAP             </span>│<span style=\"color: #800080; text-decoration-color: #800080\">                 60.42823791503906                 </span>│\n",
       "│<span style=\"color: #008080; text-decoration-color: #008080\">      train ,modality: train overall accuracy      </span>│<span style=\"color: #800080; text-decoration-color: #800080\">                 93.29639434814453                 </span>│\n",
       "│<span style=\"color: #008080; text-decoration-color: #008080\">          train ,modality: validation mAP          </span>│<span style=\"color: #800080; text-decoration-color: #800080\">                31.307456970214844                 </span>│\n",
       "│<span style=\"color: #008080; text-decoration-color: #008080\">   train ,modality: validation overall accuracy    </span>│<span style=\"color: #800080; text-decoration-color: #800080\">                  91.43212890625                   </span>│\n",
       "│<span style=\"color: #008080; text-decoration-color: #008080\">          train_mean_precision_per_class           </span>│<span style=\"color: #800080; text-decoration-color: #800080\">                 53.63911056518555                 </span>│\n",
       "│<span style=\"color: #008080; text-decoration-color: #008080\">          validation ,modality: test mAP           </span>│<span style=\"color: #800080; text-decoration-color: #800080\">                26.172794342041016                 </span>│\n",
       "│<span style=\"color: #008080; text-decoration-color: #008080\">    validation ,modality: test overall accuracy    </span>│<span style=\"color: #800080; text-decoration-color: #800080\">                 88.9473648071289                  </span>│\n",
       "│<span style=\"color: #008080; text-decoration-color: #008080\">          validation ,modality: train mAP          </span>│<span style=\"color: #800080; text-decoration-color: #800080\">                 40.0648193359375                  </span>│\n",
       "│<span style=\"color: #008080; text-decoration-color: #008080\">   validation ,modality: train overall accuracy    </span>│<span style=\"color: #800080; text-decoration-color: #800080\">                 90.45152282714844                 </span>│\n",
       "│<span style=\"color: #008080; text-decoration-color: #008080\">       validation ,modality: validation mAP        </span>│<span style=\"color: #800080; text-decoration-color: #800080\">                26.610273361206055                 </span>│\n",
       "│<span style=\"color: #008080; text-decoration-color: #008080\"> validation ,modality: validation overall accuracy </span>│<span style=\"color: #800080; text-decoration-color: #800080\">                 89.40719604492188                 </span>│\n",
       "│<span style=\"color: #008080; text-decoration-color: #008080\">        validation_mean_precision_per_class        </span>│<span style=\"color: #800080; text-decoration-color: #800080\">                 36.99302673339844                 </span>│\n",
       "└───────────────────────────────────────────────────┴───────────────────────────────────────────────────┘\n",
       "</pre>\n"
      ],
      "text/plain": [
       "┏━━━━━━━━━━━━━━━━━━━━━━━━━━━━━━━━━━━━━━━━━━━━━━━━━━━┳━━━━━━━━━━━━━━━━━━━━━━━━━━━━━━━━━━━━━━━━━━━━━━━━━━━┓\n",
       "┃\u001b[1m \u001b[0m\u001b[1m                   Test metric                   \u001b[0m\u001b[1m \u001b[0m┃\u001b[1m \u001b[0m\u001b[1m                  DataLoader 0                   \u001b[0m\u001b[1m \u001b[0m┃\n",
       "┡━━━━━━━━━━━━━━━━━━━━━━━━━━━━━━━━━━━━━━━━━━━━━━━━━━━╇━━━━━━━━━━━━━━━━━━━━━━━━━━━━━━━━━━━━━━━━━━━━━━━━━━━┩\n",
       "│\u001b[36m \u001b[0m\u001b[36m            test ,modality: test mAP             \u001b[0m\u001b[36m \u001b[0m│\u001b[35m \u001b[0m\u001b[35m               25.878774642944336                \u001b[0m\u001b[35m \u001b[0m│\n",
       "│\u001b[36m \u001b[0m\u001b[36m      test ,modality: test overall accuracy      \u001b[0m\u001b[36m \u001b[0m│\u001b[35m \u001b[0m\u001b[35m                86.79501342773438                \u001b[0m\u001b[35m \u001b[0m│\n",
       "│\u001b[36m \u001b[0m\u001b[36m            test ,modality: train mAP            \u001b[0m\u001b[36m \u001b[0m│\u001b[35m \u001b[0m\u001b[35m                37.07234573364258                \u001b[0m\u001b[35m \u001b[0m│\n",
       "│\u001b[36m \u001b[0m\u001b[36m     test ,modality: train overall accuracy      \u001b[0m\u001b[36m \u001b[0m│\u001b[35m \u001b[0m\u001b[35m                88.29085540771484                \u001b[0m\u001b[35m \u001b[0m│\n",
       "│\u001b[36m \u001b[0m\u001b[36m         test ,modality: validation mAP          \u001b[0m\u001b[36m \u001b[0m│\u001b[35m \u001b[0m\u001b[35m               27.795169830322266                \u001b[0m\u001b[35m \u001b[0m│\n",
       "│\u001b[36m \u001b[0m\u001b[36m   test ,modality: validation overall accuracy   \u001b[0m\u001b[36m \u001b[0m│\u001b[35m \u001b[0m\u001b[35m                87.40442657470703                \u001b[0m\u001b[35m \u001b[0m│\n",
       "│\u001b[36m \u001b[0m\u001b[36m                    test_acc                     \u001b[0m\u001b[36m \u001b[0m│\u001b[35m \u001b[0m\u001b[35m                86.79498291015625                \u001b[0m\u001b[35m \u001b[0m│\n",
       "│\u001b[36m \u001b[0m\u001b[36m          test_mean_precision_per_class          \u001b[0m\u001b[36m \u001b[0m│\u001b[35m \u001b[0m\u001b[35m                35.81576156616211                \u001b[0m\u001b[35m \u001b[0m│\n",
       "│\u001b[36m \u001b[0m\u001b[36m            train ,modality: test mAP            \u001b[0m\u001b[36m \u001b[0m│\u001b[35m \u001b[0m\u001b[35m                36.2852668762207                 \u001b[0m\u001b[35m \u001b[0m│\n",
       "│\u001b[36m \u001b[0m\u001b[36m     train ,modality: test overall accuracy      \u001b[0m\u001b[36m \u001b[0m│\u001b[35m \u001b[0m\u001b[35m                91.46537017822266                \u001b[0m\u001b[35m \u001b[0m│\n",
       "│\u001b[36m \u001b[0m\u001b[36m           train ,modality: train mAP            \u001b[0m\u001b[36m \u001b[0m│\u001b[35m \u001b[0m\u001b[35m                60.42823791503906                \u001b[0m\u001b[35m \u001b[0m│\n",
       "│\u001b[36m \u001b[0m\u001b[36m     train ,modality: train overall accuracy     \u001b[0m\u001b[36m \u001b[0m│\u001b[35m \u001b[0m\u001b[35m                93.29639434814453                \u001b[0m\u001b[35m \u001b[0m│\n",
       "│\u001b[36m \u001b[0m\u001b[36m         train ,modality: validation mAP         \u001b[0m\u001b[36m \u001b[0m│\u001b[35m \u001b[0m\u001b[35m               31.307456970214844                \u001b[0m\u001b[35m \u001b[0m│\n",
       "│\u001b[36m \u001b[0m\u001b[36m  train ,modality: validation overall accuracy   \u001b[0m\u001b[36m \u001b[0m│\u001b[35m \u001b[0m\u001b[35m                 91.43212890625                  \u001b[0m\u001b[35m \u001b[0m│\n",
       "│\u001b[36m \u001b[0m\u001b[36m         train_mean_precision_per_class          \u001b[0m\u001b[36m \u001b[0m│\u001b[35m \u001b[0m\u001b[35m                53.63911056518555                \u001b[0m\u001b[35m \u001b[0m│\n",
       "│\u001b[36m \u001b[0m\u001b[36m         validation ,modality: test mAP          \u001b[0m\u001b[36m \u001b[0m│\u001b[35m \u001b[0m\u001b[35m               26.172794342041016                \u001b[0m\u001b[35m \u001b[0m│\n",
       "│\u001b[36m \u001b[0m\u001b[36m   validation ,modality: test overall accuracy   \u001b[0m\u001b[36m \u001b[0m│\u001b[35m \u001b[0m\u001b[35m                88.9473648071289                 \u001b[0m\u001b[35m \u001b[0m│\n",
       "│\u001b[36m \u001b[0m\u001b[36m         validation ,modality: train mAP         \u001b[0m\u001b[36m \u001b[0m│\u001b[35m \u001b[0m\u001b[35m                40.0648193359375                 \u001b[0m\u001b[35m \u001b[0m│\n",
       "│\u001b[36m \u001b[0m\u001b[36m  validation ,modality: train overall accuracy   \u001b[0m\u001b[36m \u001b[0m│\u001b[35m \u001b[0m\u001b[35m                90.45152282714844                \u001b[0m\u001b[35m \u001b[0m│\n",
       "│\u001b[36m \u001b[0m\u001b[36m      validation ,modality: validation mAP       \u001b[0m\u001b[36m \u001b[0m│\u001b[35m \u001b[0m\u001b[35m               26.610273361206055                \u001b[0m\u001b[35m \u001b[0m│\n",
       "│\u001b[36m \u001b[0m\u001b[36mvalidation ,modality: validation overall accuracy\u001b[0m\u001b[36m \u001b[0m│\u001b[35m \u001b[0m\u001b[35m                89.40719604492188                \u001b[0m\u001b[35m \u001b[0m│\n",
       "│\u001b[36m \u001b[0m\u001b[36m       validation_mean_precision_per_class       \u001b[0m\u001b[36m \u001b[0m│\u001b[35m \u001b[0m\u001b[35m                36.99302673339844                \u001b[0m\u001b[35m \u001b[0m│\n",
       "└───────────────────────────────────────────────────┴───────────────────────────────────────────────────┘\n"
      ]
     },
     "metadata": {},
     "output_type": "display_data"
    },
    {
     "name": "stderr",
     "output_type": "stream",
     "text": [
      "LOCAL_RANK: 0 - CUDA_VISIBLE_DEVICES: [0]\n"
     ]
    },
    {
     "data": {
      "application/vnd.jupyter.widget-view+json": {
       "model_id": "154ad83fdb1541c086a3f1ed59a01674",
       "version_major": 2,
       "version_minor": 0
      },
      "text/plain": [
       "Testing: |          | 0/? [00:00<?, ?it/s]"
      ]
     },
     "metadata": {},
     "output_type": "display_data"
    },
    {
     "data": {
      "text/html": [
       "<pre style=\"white-space:pre;overflow-x:auto;line-height:normal;font-family:Menlo,'DejaVu Sans Mono',consolas,'Courier New',monospace\">┏━━━━━━━━━━━━━━━━━━━━━━━━━━━━━━━━━━━━━━━━━━━━━━━━━━━┳━━━━━━━━━━━━━━━━━━━━━━━━━━━━━━━━━━━━━━━━━━━━━━━━━━━┓\n",
       "┃<span style=\"font-weight: bold\">                    Test metric                    </span>┃<span style=\"font-weight: bold\">                   DataLoader 0                    </span>┃\n",
       "┡━━━━━━━━━━━━━━━━━━━━━━━━━━━━━━━━━━━━━━━━━━━━━━━━━━━╇━━━━━━━━━━━━━━━━━━━━━━━━━━━━━━━━━━━━━━━━━━━━━━━━━━━┩\n",
       "│<span style=\"color: #008080; text-decoration-color: #008080\">             test ,modality: test mAP              </span>│<span style=\"color: #800080; text-decoration-color: #800080\">                24.744937896728516                 </span>│\n",
       "│<span style=\"color: #008080; text-decoration-color: #008080\">       test ,modality: test overall accuracy       </span>│<span style=\"color: #800080; text-decoration-color: #800080\">                 87.03047180175781                 </span>│\n",
       "│<span style=\"color: #008080; text-decoration-color: #008080\">             test ,modality: train mAP             </span>│<span style=\"color: #800080; text-decoration-color: #800080\">                 32.68633270263672                 </span>│\n",
       "│<span style=\"color: #008080; text-decoration-color: #008080\">      test ,modality: train overall accuracy       </span>│<span style=\"color: #800080; text-decoration-color: #800080\">                 87.75623321533203                 </span>│\n",
       "│<span style=\"color: #008080; text-decoration-color: #008080\">          test ,modality: validation mAP           </span>│<span style=\"color: #800080; text-decoration-color: #800080\">                 26.58683204650879                 </span>│\n",
       "│<span style=\"color: #008080; text-decoration-color: #008080\">    test ,modality: validation overall accuracy    </span>│<span style=\"color: #800080; text-decoration-color: #800080\">                 87.29363250732422                 </span>│\n",
       "│<span style=\"color: #008080; text-decoration-color: #008080\">                     test_acc                      </span>│<span style=\"color: #800080; text-decoration-color: #800080\">                 87.03044891357422                 </span>│\n",
       "│<span style=\"color: #008080; text-decoration-color: #008080\">           test_mean_precision_per_class           </span>│<span style=\"color: #800080; text-decoration-color: #800080\">                17.571901321411133                 </span>│\n",
       "│<span style=\"color: #008080; text-decoration-color: #008080\">             train ,modality: test mAP             </span>│<span style=\"color: #800080; text-decoration-color: #800080\">                32.288265228271484                 </span>│\n",
       "│<span style=\"color: #008080; text-decoration-color: #008080\">      train ,modality: test overall accuracy       </span>│<span style=\"color: #800080; text-decoration-color: #800080\">                 91.38227081298828                 </span>│\n",
       "│<span style=\"color: #008080; text-decoration-color: #008080\">            train ,modality: train mAP             </span>│<span style=\"color: #800080; text-decoration-color: #800080\">                 47.28464889526367                 </span>│\n",
       "│<span style=\"color: #008080; text-decoration-color: #008080\">      train ,modality: train overall accuracy      </span>│<span style=\"color: #800080; text-decoration-color: #800080\">                 92.32963562011719                 </span>│\n",
       "│<span style=\"color: #008080; text-decoration-color: #008080\">          train ,modality: validation mAP          </span>│<span style=\"color: #800080; text-decoration-color: #800080\">                30.872465133666992                 </span>│\n",
       "│<span style=\"color: #008080; text-decoration-color: #008080\">   train ,modality: validation overall accuracy    </span>│<span style=\"color: #800080; text-decoration-color: #800080\">                 91.33241271972656                 </span>│\n",
       "│<span style=\"color: #008080; text-decoration-color: #008080\">          train_mean_precision_per_class           </span>│<span style=\"color: #800080; text-decoration-color: #800080\">                29.250871658325195                 </span>│\n",
       "│<span style=\"color: #008080; text-decoration-color: #008080\">          validation ,modality: test mAP           </span>│<span style=\"color: #800080; text-decoration-color: #800080\">                 24.38222312927246                 </span>│\n",
       "│<span style=\"color: #008080; text-decoration-color: #008080\">    validation ,modality: test overall accuracy    </span>│<span style=\"color: #800080; text-decoration-color: #800080\">                 89.09972381591797                 </span>│\n",
       "│<span style=\"color: #008080; text-decoration-color: #008080\">          validation ,modality: train mAP          </span>│<span style=\"color: #800080; text-decoration-color: #800080\">                 32.9186897277832                  </span>│\n",
       "│<span style=\"color: #008080; text-decoration-color: #008080\">   validation ,modality: train overall accuracy    </span>│<span style=\"color: #800080; text-decoration-color: #800080\">                 89.87257385253906                 </span>│\n",
       "│<span style=\"color: #008080; text-decoration-color: #008080\">       validation ,modality: validation mAP        </span>│<span style=\"color: #800080; text-decoration-color: #800080\">                 25.8539981842041                  </span>│\n",
       "│<span style=\"color: #008080; text-decoration-color: #008080\"> validation ,modality: validation overall accuracy </span>│<span style=\"color: #800080; text-decoration-color: #800080\">                 89.33795166015625                 </span>│\n",
       "│<span style=\"color: #008080; text-decoration-color: #008080\">        validation_mean_precision_per_class        </span>│<span style=\"color: #800080; text-decoration-color: #800080\">                19.751707077026367                 </span>│\n",
       "└───────────────────────────────────────────────────┴───────────────────────────────────────────────────┘\n",
       "</pre>\n"
      ],
      "text/plain": [
       "┏━━━━━━━━━━━━━━━━━━━━━━━━━━━━━━━━━━━━━━━━━━━━━━━━━━━┳━━━━━━━━━━━━━━━━━━━━━━━━━━━━━━━━━━━━━━━━━━━━━━━━━━━┓\n",
       "┃\u001b[1m \u001b[0m\u001b[1m                   Test metric                   \u001b[0m\u001b[1m \u001b[0m┃\u001b[1m \u001b[0m\u001b[1m                  DataLoader 0                   \u001b[0m\u001b[1m \u001b[0m┃\n",
       "┡━━━━━━━━━━━━━━━━━━━━━━━━━━━━━━━━━━━━━━━━━━━━━━━━━━━╇━━━━━━━━━━━━━━━━━━━━━━━━━━━━━━━━━━━━━━━━━━━━━━━━━━━┩\n",
       "│\u001b[36m \u001b[0m\u001b[36m            test ,modality: test mAP             \u001b[0m\u001b[36m \u001b[0m│\u001b[35m \u001b[0m\u001b[35m               24.744937896728516                \u001b[0m\u001b[35m \u001b[0m│\n",
       "│\u001b[36m \u001b[0m\u001b[36m      test ,modality: test overall accuracy      \u001b[0m\u001b[36m \u001b[0m│\u001b[35m \u001b[0m\u001b[35m                87.03047180175781                \u001b[0m\u001b[35m \u001b[0m│\n",
       "│\u001b[36m \u001b[0m\u001b[36m            test ,modality: train mAP            \u001b[0m\u001b[36m \u001b[0m│\u001b[35m \u001b[0m\u001b[35m                32.68633270263672                \u001b[0m\u001b[35m \u001b[0m│\n",
       "│\u001b[36m \u001b[0m\u001b[36m     test ,modality: train overall accuracy      \u001b[0m\u001b[36m \u001b[0m│\u001b[35m \u001b[0m\u001b[35m                87.75623321533203                \u001b[0m\u001b[35m \u001b[0m│\n",
       "│\u001b[36m \u001b[0m\u001b[36m         test ,modality: validation mAP          \u001b[0m\u001b[36m \u001b[0m│\u001b[35m \u001b[0m\u001b[35m                26.58683204650879                \u001b[0m\u001b[35m \u001b[0m│\n",
       "│\u001b[36m \u001b[0m\u001b[36m   test ,modality: validation overall accuracy   \u001b[0m\u001b[36m \u001b[0m│\u001b[35m \u001b[0m\u001b[35m                87.29363250732422                \u001b[0m\u001b[35m \u001b[0m│\n",
       "│\u001b[36m \u001b[0m\u001b[36m                    test_acc                     \u001b[0m\u001b[36m \u001b[0m│\u001b[35m \u001b[0m\u001b[35m                87.03044891357422                \u001b[0m\u001b[35m \u001b[0m│\n",
       "│\u001b[36m \u001b[0m\u001b[36m          test_mean_precision_per_class          \u001b[0m\u001b[36m \u001b[0m│\u001b[35m \u001b[0m\u001b[35m               17.571901321411133                \u001b[0m\u001b[35m \u001b[0m│\n",
       "│\u001b[36m \u001b[0m\u001b[36m            train ,modality: test mAP            \u001b[0m\u001b[36m \u001b[0m│\u001b[35m \u001b[0m\u001b[35m               32.288265228271484                \u001b[0m\u001b[35m \u001b[0m│\n",
       "│\u001b[36m \u001b[0m\u001b[36m     train ,modality: test overall accuracy      \u001b[0m\u001b[36m \u001b[0m│\u001b[35m \u001b[0m\u001b[35m                91.38227081298828                \u001b[0m\u001b[35m \u001b[0m│\n",
       "│\u001b[36m \u001b[0m\u001b[36m           train ,modality: train mAP            \u001b[0m\u001b[36m \u001b[0m│\u001b[35m \u001b[0m\u001b[35m                47.28464889526367                \u001b[0m\u001b[35m \u001b[0m│\n",
       "│\u001b[36m \u001b[0m\u001b[36m     train ,modality: train overall accuracy     \u001b[0m\u001b[36m \u001b[0m│\u001b[35m \u001b[0m\u001b[35m                92.32963562011719                \u001b[0m\u001b[35m \u001b[0m│\n",
       "│\u001b[36m \u001b[0m\u001b[36m         train ,modality: validation mAP         \u001b[0m\u001b[36m \u001b[0m│\u001b[35m \u001b[0m\u001b[35m               30.872465133666992                \u001b[0m\u001b[35m \u001b[0m│\n",
       "│\u001b[36m \u001b[0m\u001b[36m  train ,modality: validation overall accuracy   \u001b[0m\u001b[36m \u001b[0m│\u001b[35m \u001b[0m\u001b[35m                91.33241271972656                \u001b[0m\u001b[35m \u001b[0m│\n",
       "│\u001b[36m \u001b[0m\u001b[36m         train_mean_precision_per_class          \u001b[0m\u001b[36m \u001b[0m│\u001b[35m \u001b[0m\u001b[35m               29.250871658325195                \u001b[0m\u001b[35m \u001b[0m│\n",
       "│\u001b[36m \u001b[0m\u001b[36m         validation ,modality: test mAP          \u001b[0m\u001b[36m \u001b[0m│\u001b[35m \u001b[0m\u001b[35m                24.38222312927246                \u001b[0m\u001b[35m \u001b[0m│\n",
       "│\u001b[36m \u001b[0m\u001b[36m   validation ,modality: test overall accuracy   \u001b[0m\u001b[36m \u001b[0m│\u001b[35m \u001b[0m\u001b[35m                89.09972381591797                \u001b[0m\u001b[35m \u001b[0m│\n",
       "│\u001b[36m \u001b[0m\u001b[36m         validation ,modality: train mAP         \u001b[0m\u001b[36m \u001b[0m│\u001b[35m \u001b[0m\u001b[35m                32.9186897277832                 \u001b[0m\u001b[35m \u001b[0m│\n",
       "│\u001b[36m \u001b[0m\u001b[36m  validation ,modality: train overall accuracy   \u001b[0m\u001b[36m \u001b[0m│\u001b[35m \u001b[0m\u001b[35m                89.87257385253906                \u001b[0m\u001b[35m \u001b[0m│\n",
       "│\u001b[36m \u001b[0m\u001b[36m      validation ,modality: validation mAP       \u001b[0m\u001b[36m \u001b[0m│\u001b[35m \u001b[0m\u001b[35m                25.8539981842041                 \u001b[0m\u001b[35m \u001b[0m│\n",
       "│\u001b[36m \u001b[0m\u001b[36mvalidation ,modality: validation overall accuracy\u001b[0m\u001b[36m \u001b[0m│\u001b[35m \u001b[0m\u001b[35m                89.33795166015625                \u001b[0m\u001b[35m \u001b[0m│\n",
       "│\u001b[36m \u001b[0m\u001b[36m       validation_mean_precision_per_class       \u001b[0m\u001b[36m \u001b[0m│\u001b[35m \u001b[0m\u001b[35m               19.751707077026367                \u001b[0m\u001b[35m \u001b[0m│\n",
       "└───────────────────────────────────────────────────┴───────────────────────────────────────────────────┘\n"
      ]
     },
     "metadata": {},
     "output_type": "display_data"
    },
    {
     "name": "stderr",
     "output_type": "stream",
     "text": [
      "LOCAL_RANK: 0 - CUDA_VISIBLE_DEVICES: [0]\n"
     ]
    },
    {
     "data": {
      "application/vnd.jupyter.widget-view+json": {
       "model_id": "f3a152939bf54666ad31103ff04c9f3d",
       "version_major": 2,
       "version_minor": 0
      },
      "text/plain": [
       "Testing: |          | 0/? [00:00<?, ?it/s]"
      ]
     },
     "metadata": {},
     "output_type": "display_data"
    },
    {
     "data": {
      "text/html": [
       "<pre style=\"white-space:pre;overflow-x:auto;line-height:normal;font-family:Menlo,'DejaVu Sans Mono',consolas,'Courier New',monospace\">┏━━━━━━━━━━━━━━━━━━━━━━━━━━━━━━━━━━━━━━━━━━━━━━━━━━━┳━━━━━━━━━━━━━━━━━━━━━━━━━━━━━━━━━━━━━━━━━━━━━━━━━━━┓\n",
       "┃<span style=\"font-weight: bold\">                    Test metric                    </span>┃<span style=\"font-weight: bold\">                   DataLoader 0                    </span>┃\n",
       "┡━━━━━━━━━━━━━━━━━━━━━━━━━━━━━━━━━━━━━━━━━━━━━━━━━━━╇━━━━━━━━━━━━━━━━━━━━━━━━━━━━━━━━━━━━━━━━━━━━━━━━━━━┩\n",
       "│<span style=\"color: #008080; text-decoration-color: #008080\">             test ,modality: test mAP              </span>│<span style=\"color: #800080; text-decoration-color: #800080\">                25.878774642944336                 </span>│\n",
       "│<span style=\"color: #008080; text-decoration-color: #008080\">       test ,modality: test overall accuracy       </span>│<span style=\"color: #800080; text-decoration-color: #800080\">                 86.79501342773438                 </span>│\n",
       "│<span style=\"color: #008080; text-decoration-color: #008080\">             test ,modality: train mAP             </span>│<span style=\"color: #800080; text-decoration-color: #800080\">                 37.07234573364258                 </span>│\n",
       "│<span style=\"color: #008080; text-decoration-color: #008080\">      test ,modality: train overall accuracy       </span>│<span style=\"color: #800080; text-decoration-color: #800080\">                 88.29085540771484                 </span>│\n",
       "│<span style=\"color: #008080; text-decoration-color: #008080\">          test ,modality: validation mAP           </span>│<span style=\"color: #800080; text-decoration-color: #800080\">                27.795169830322266                 </span>│\n",
       "│<span style=\"color: #008080; text-decoration-color: #008080\">    test ,modality: validation overall accuracy    </span>│<span style=\"color: #800080; text-decoration-color: #800080\">                 87.40442657470703                 </span>│\n",
       "│<span style=\"color: #008080; text-decoration-color: #008080\">                     test_acc                      </span>│<span style=\"color: #800080; text-decoration-color: #800080\">                 86.79498291015625                 </span>│\n",
       "│<span style=\"color: #008080; text-decoration-color: #008080\">           test_mean_precision_per_class           </span>│<span style=\"color: #800080; text-decoration-color: #800080\">                 35.81576156616211                 </span>│\n",
       "│<span style=\"color: #008080; text-decoration-color: #008080\">             train ,modality: test mAP             </span>│<span style=\"color: #800080; text-decoration-color: #800080\">                 36.27234649658203                 </span>│\n",
       "│<span style=\"color: #008080; text-decoration-color: #008080\">      train ,modality: test overall accuracy       </span>│<span style=\"color: #800080; text-decoration-color: #800080\">                 91.45983123779297                 </span>│\n",
       "│<span style=\"color: #008080; text-decoration-color: #008080\">            train ,modality: train mAP             </span>│<span style=\"color: #800080; text-decoration-color: #800080\">                60.260337829589844                 </span>│\n",
       "│<span style=\"color: #008080; text-decoration-color: #008080\">      train ,modality: train overall accuracy      </span>│<span style=\"color: #800080; text-decoration-color: #800080\">                 93.29086303710938                 </span>│\n",
       "│<span style=\"color: #008080; text-decoration-color: #008080\">          train ,modality: validation mAP          </span>│<span style=\"color: #800080; text-decoration-color: #800080\">                31.385345458984375                 </span>│\n",
       "│<span style=\"color: #008080; text-decoration-color: #008080\">   train ,modality: validation overall accuracy    </span>│<span style=\"color: #800080; text-decoration-color: #800080\">                 91.44044494628906                 </span>│\n",
       "│<span style=\"color: #008080; text-decoration-color: #008080\">          train_mean_precision_per_class           </span>│<span style=\"color: #800080; text-decoration-color: #800080\">                 52.10134506225586                 </span>│\n",
       "│<span style=\"color: #008080; text-decoration-color: #008080\">          validation ,modality: test mAP           </span>│<span style=\"color: #800080; text-decoration-color: #800080\">                26.172794342041016                 </span>│\n",
       "│<span style=\"color: #008080; text-decoration-color: #008080\">    validation ,modality: test overall accuracy    </span>│<span style=\"color: #800080; text-decoration-color: #800080\">                 88.9473648071289                  </span>│\n",
       "│<span style=\"color: #008080; text-decoration-color: #008080\">          validation ,modality: train mAP          </span>│<span style=\"color: #800080; text-decoration-color: #800080\">                 40.0648193359375                  </span>│\n",
       "│<span style=\"color: #008080; text-decoration-color: #008080\">   validation ,modality: train overall accuracy    </span>│<span style=\"color: #800080; text-decoration-color: #800080\">                 90.45152282714844                 </span>│\n",
       "│<span style=\"color: #008080; text-decoration-color: #008080\">       validation ,modality: validation mAP        </span>│<span style=\"color: #800080; text-decoration-color: #800080\">                26.610273361206055                 </span>│\n",
       "│<span style=\"color: #008080; text-decoration-color: #008080\"> validation ,modality: validation overall accuracy </span>│<span style=\"color: #800080; text-decoration-color: #800080\">                 89.40719604492188                 </span>│\n",
       "│<span style=\"color: #008080; text-decoration-color: #008080\">        validation_mean_precision_per_class        </span>│<span style=\"color: #800080; text-decoration-color: #800080\">                 36.99302673339844                 </span>│\n",
       "└───────────────────────────────────────────────────┴───────────────────────────────────────────────────┘\n",
       "</pre>\n"
      ],
      "text/plain": [
       "┏━━━━━━━━━━━━━━━━━━━━━━━━━━━━━━━━━━━━━━━━━━━━━━━━━━━┳━━━━━━━━━━━━━━━━━━━━━━━━━━━━━━━━━━━━━━━━━━━━━━━━━━━┓\n",
       "┃\u001b[1m \u001b[0m\u001b[1m                   Test metric                   \u001b[0m\u001b[1m \u001b[0m┃\u001b[1m \u001b[0m\u001b[1m                  DataLoader 0                   \u001b[0m\u001b[1m \u001b[0m┃\n",
       "┡━━━━━━━━━━━━━━━━━━━━━━━━━━━━━━━━━━━━━━━━━━━━━━━━━━━╇━━━━━━━━━━━━━━━━━━━━━━━━━━━━━━━━━━━━━━━━━━━━━━━━━━━┩\n",
       "│\u001b[36m \u001b[0m\u001b[36m            test ,modality: test mAP             \u001b[0m\u001b[36m \u001b[0m│\u001b[35m \u001b[0m\u001b[35m               25.878774642944336                \u001b[0m\u001b[35m \u001b[0m│\n",
       "│\u001b[36m \u001b[0m\u001b[36m      test ,modality: test overall accuracy      \u001b[0m\u001b[36m \u001b[0m│\u001b[35m \u001b[0m\u001b[35m                86.79501342773438                \u001b[0m\u001b[35m \u001b[0m│\n",
       "│\u001b[36m \u001b[0m\u001b[36m            test ,modality: train mAP            \u001b[0m\u001b[36m \u001b[0m│\u001b[35m \u001b[0m\u001b[35m                37.07234573364258                \u001b[0m\u001b[35m \u001b[0m│\n",
       "│\u001b[36m \u001b[0m\u001b[36m     test ,modality: train overall accuracy      \u001b[0m\u001b[36m \u001b[0m│\u001b[35m \u001b[0m\u001b[35m                88.29085540771484                \u001b[0m\u001b[35m \u001b[0m│\n",
       "│\u001b[36m \u001b[0m\u001b[36m         test ,modality: validation mAP          \u001b[0m\u001b[36m \u001b[0m│\u001b[35m \u001b[0m\u001b[35m               27.795169830322266                \u001b[0m\u001b[35m \u001b[0m│\n",
       "│\u001b[36m \u001b[0m\u001b[36m   test ,modality: validation overall accuracy   \u001b[0m\u001b[36m \u001b[0m│\u001b[35m \u001b[0m\u001b[35m                87.40442657470703                \u001b[0m\u001b[35m \u001b[0m│\n",
       "│\u001b[36m \u001b[0m\u001b[36m                    test_acc                     \u001b[0m\u001b[36m \u001b[0m│\u001b[35m \u001b[0m\u001b[35m                86.79498291015625                \u001b[0m\u001b[35m \u001b[0m│\n",
       "│\u001b[36m \u001b[0m\u001b[36m          test_mean_precision_per_class          \u001b[0m\u001b[36m \u001b[0m│\u001b[35m \u001b[0m\u001b[35m                35.81576156616211                \u001b[0m\u001b[35m \u001b[0m│\n",
       "│\u001b[36m \u001b[0m\u001b[36m            train ,modality: test mAP            \u001b[0m\u001b[36m \u001b[0m│\u001b[35m \u001b[0m\u001b[35m                36.27234649658203                \u001b[0m\u001b[35m \u001b[0m│\n",
       "│\u001b[36m \u001b[0m\u001b[36m     train ,modality: test overall accuracy      \u001b[0m\u001b[36m \u001b[0m│\u001b[35m \u001b[0m\u001b[35m                91.45983123779297                \u001b[0m\u001b[35m \u001b[0m│\n",
       "│\u001b[36m \u001b[0m\u001b[36m           train ,modality: train mAP            \u001b[0m\u001b[36m \u001b[0m│\u001b[35m \u001b[0m\u001b[35m               60.260337829589844                \u001b[0m\u001b[35m \u001b[0m│\n",
       "│\u001b[36m \u001b[0m\u001b[36m     train ,modality: train overall accuracy     \u001b[0m\u001b[36m \u001b[0m│\u001b[35m \u001b[0m\u001b[35m                93.29086303710938                \u001b[0m\u001b[35m \u001b[0m│\n",
       "│\u001b[36m \u001b[0m\u001b[36m         train ,modality: validation mAP         \u001b[0m\u001b[36m \u001b[0m│\u001b[35m \u001b[0m\u001b[35m               31.385345458984375                \u001b[0m\u001b[35m \u001b[0m│\n",
       "│\u001b[36m \u001b[0m\u001b[36m  train ,modality: validation overall accuracy   \u001b[0m\u001b[36m \u001b[0m│\u001b[35m \u001b[0m\u001b[35m                91.44044494628906                \u001b[0m\u001b[35m \u001b[0m│\n",
       "│\u001b[36m \u001b[0m\u001b[36m         train_mean_precision_per_class          \u001b[0m\u001b[36m \u001b[0m│\u001b[35m \u001b[0m\u001b[35m                52.10134506225586                \u001b[0m\u001b[35m \u001b[0m│\n",
       "│\u001b[36m \u001b[0m\u001b[36m         validation ,modality: test mAP          \u001b[0m\u001b[36m \u001b[0m│\u001b[35m \u001b[0m\u001b[35m               26.172794342041016                \u001b[0m\u001b[35m \u001b[0m│\n",
       "│\u001b[36m \u001b[0m\u001b[36m   validation ,modality: test overall accuracy   \u001b[0m\u001b[36m \u001b[0m│\u001b[35m \u001b[0m\u001b[35m                88.9473648071289                 \u001b[0m\u001b[35m \u001b[0m│\n",
       "│\u001b[36m \u001b[0m\u001b[36m         validation ,modality: train mAP         \u001b[0m\u001b[36m \u001b[0m│\u001b[35m \u001b[0m\u001b[35m                40.0648193359375                 \u001b[0m\u001b[35m \u001b[0m│\n",
       "│\u001b[36m \u001b[0m\u001b[36m  validation ,modality: train overall accuracy   \u001b[0m\u001b[36m \u001b[0m│\u001b[35m \u001b[0m\u001b[35m                90.45152282714844                \u001b[0m\u001b[35m \u001b[0m│\n",
       "│\u001b[36m \u001b[0m\u001b[36m      validation ,modality: validation mAP       \u001b[0m\u001b[36m \u001b[0m│\u001b[35m \u001b[0m\u001b[35m               26.610273361206055                \u001b[0m\u001b[35m \u001b[0m│\n",
       "│\u001b[36m \u001b[0m\u001b[36mvalidation ,modality: validation overall accuracy\u001b[0m\u001b[36m \u001b[0m│\u001b[35m \u001b[0m\u001b[35m                89.40719604492188                \u001b[0m\u001b[35m \u001b[0m│\n",
       "│\u001b[36m \u001b[0m\u001b[36m       validation_mean_precision_per_class       \u001b[0m\u001b[36m \u001b[0m│\u001b[35m \u001b[0m\u001b[35m                36.99302673339844                \u001b[0m\u001b[35m \u001b[0m│\n",
       "└───────────────────────────────────────────────────┴───────────────────────────────────────────────────┘\n"
      ]
     },
     "metadata": {},
     "output_type": "display_data"
    },
    {
     "data": {
      "text/plain": [
       "[{'test_acc': 86.79498291015625,\n",
       "  'train ,modality: train overall accuracy': 93.29086303710938,\n",
       "  'train ,modality: train mAP': 60.260337829589844,\n",
       "  'train_mean_precision_per_class': 52.10134506225586,\n",
       "  'train ,modality: validation overall accuracy': 91.44044494628906,\n",
       "  'train ,modality: validation mAP': 31.385345458984375,\n",
       "  'train ,modality: test overall accuracy': 91.45983123779297,\n",
       "  'train ,modality: test mAP': 36.27234649658203,\n",
       "  'validation ,modality: train overall accuracy': 90.45152282714844,\n",
       "  'validation ,modality: train mAP': 40.0648193359375,\n",
       "  'validation_mean_precision_per_class': 36.99302673339844,\n",
       "  'validation ,modality: validation overall accuracy': 89.40719604492188,\n",
       "  'validation ,modality: validation mAP': 26.610273361206055,\n",
       "  'validation ,modality: test overall accuracy': 88.9473648071289,\n",
       "  'validation ,modality: test mAP': 26.172794342041016,\n",
       "  'test ,modality: train overall accuracy': 88.29085540771484,\n",
       "  'test ,modality: train mAP': 37.07234573364258,\n",
       "  'test_mean_precision_per_class': 35.81576156616211,\n",
       "  'test ,modality: validation overall accuracy': 87.40442657470703,\n",
       "  'test ,modality: validation mAP': 27.795169830322266,\n",
       "  'test ,modality: test overall accuracy': 86.79501342773438,\n",
       "  'test ,modality: test mAP': 25.878774642944336}]"
      ]
     },
     "execution_count": 1,
     "metadata": {},
     "output_type": "execute_result"
    },
    {
     "name": "stdout",
     "output_type": "stream",
     "text": [
      "Error in callback <bound method _WandbInit._pause_backend of <wandb.sdk.wandb_init._WandbInit object at 0x7ff687fc1510>> (for post_run_cell), with arguments args (<ExecutionResult object at 7ff828f19c10, execution_count=1 error_before_exec=None error_in_exec=None info=<ExecutionInfo object at 7ff828f0af10, raw_cell=\"from training.perceiver import*\n",
      "from training.util..\" store_history=True silent=False shell_futures=True cell_id=c7fb9265> result=[{'test_acc': 86.79498291015625, 'train ,modality: train overall accuracy': 93.29086303710938, 'train ,modality: train mAP': 60.260337829589844, 'train_mean_precision_per_class': 52.10134506225586, 'train ,modality: validation overall accuracy': 91.44044494628906, 'train ,modality: validation mAP': 31.385345458984375, 'train ,modality: test overall accuracy': 91.45983123779297, 'train ,modality: test mAP': 36.27234649658203, 'validation ,modality: train overall accuracy': 90.45152282714844, 'validation ,modality: train mAP': 40.0648193359375, 'validation_mean_precision_per_class': 36.99302673339844, 'validation ,modality: validation overall accuracy': 89.40719604492188, 'validation ,modality: validation mAP': 26.610273361206055, 'validation ,modality: test overall accuracy': 88.9473648071289, 'validation ,modality: test mAP': 26.172794342041016, 'test ,modality: train overall accuracy': 88.29085540771484, 'test ,modality: train mAP': 37.07234573364258, 'test_mean_precision_per_class': 35.81576156616211, 'test ,modality: validation overall accuracy': 87.40442657470703, 'test ,modality: validation mAP': 27.795169830322266, 'test ,modality: test overall accuracy': 86.79501342773438, 'test ,modality: test mAP': 25.878774642944336}]>,),kwargs {}:\n"
     ]
    },
    {
     "ename": "TypeError",
     "evalue": "_WandbInit._pause_backend() takes 1 positional argument but 2 were given",
     "output_type": "error",
     "traceback": [
      "\u001b[0;31m---------------------------------------------------------------------------\u001b[0m",
      "\u001b[0;31mTypeError\u001b[0m                                 Traceback (most recent call last)",
      "\u001b[0;31mTypeError\u001b[0m: _WandbInit._pause_backend() takes 1 positional argument but 2 were given"
     ]
    }
   ],
   "source": [
    "from training.perceiver import*\n",
    "from training.utils import*\n",
    "from training.losses import*\n",
    "from training.VIT import*\n",
    "from training.ResNet import*\n",
    "from collections import defaultdict\n",
    "from training import*\n",
    "\n",
    "from pytorch_lightning import Trainer\n",
    "from pytorch_lightning.loggers import WandbLogger\n",
    "\n",
    "import torch\n",
    "import numpy as np\n",
    "from torch import nn, einsum\n",
    "import torch.nn.functional as F\n",
    "import einops as einops\n",
    "from einops import rearrange, repeat\n",
    "from einops.layers.torch import Reduce\n",
    "\n",
    "import matplotlib.pyplot as plt\n",
    "\n",
    "from configilm import util\n",
    "util.MESSAGE_LEVEL = util.MessageLevel.INFO  # use INFO to see all messages\n",
    "\n",
    "\n",
    "from configilm.extra.DataSets import BENv2_DataSet\n",
    "from configilm.extra.DataModules import BENv2_DataModule\n",
    "\n",
    "torch.manual_seed(0)\n",
    "\n",
    "\n",
    "from pytorch_lightning import Trainer\n",
    "from pytorch_lightning.loggers import WandbLogger\n",
    "torch.set_default_dtype(torch.float32)\n",
    "#torch.set_float32_matmul_precision('medium' | 'high')\n",
    "torch.set_float32_matmul_precision('medium' )\n",
    "\n",
    "config_dico = read_yaml(\"./training/configs/config_test-ViT_XS.yaml\")\n",
    "\n",
    "bands_yaml=\"./data/Tiny_BigEarthNet/bands.yaml\"\n",
    "configs_dataset=\"./data/Tiny_BigEarthNet/configs_dataset.yaml\"\n",
    "\n",
    "test_conf= transformations_config(bands_yaml,configs_dataset,path_imgs_config=\"./data/Tiny_BigEarthNet/\")\n",
    "\n",
    "data_module=Tiny_BigEarthNetDataModule( \"./data/Tiny_BigEarthNet/tiny\", batch_size=config_dico['dataset']['batchsize'], num_workers=4,trans_config=test_conf,perceiver=False)\n",
    "\n",
    "data_module.setup()\n",
    "# Prepare dataloaders\n",
    "train_loader = data_module.train_dataloader()\n",
    "val_loader = data_module.val_dataloader()\n",
    "test_loader = data_module.test_dataloader()\n",
    "\n",
    "# Read configuration\n",
    "\n",
    "\n",
    "\n",
    "tmp_name=tmp_name=get_xp_name(config_dico['encoder'])+\" modalities\"\n",
    "\n",
    "#if config_dico['encoder']==\"ViT\":\n",
    "#    tmp_name=get_xp_name(config_dico['encoder'],config_dico['encoder'][\"config\"])\n",
    "    \n",
    "\n",
    "\n",
    "\n",
    "wand=True\n",
    "wandb_logger=None\n",
    "logger_xp=None#wandb_logger\n",
    "if wand:\n",
    "    wandb.init(\n",
    "            name=tmp_name,\n",
    "            project=\"first_xp\",\n",
    "            config=config_dico\n",
    "        )\n",
    "\n",
    "    wandb_logger=WandbLogger(project=\"first_xp\")\n",
    "\n",
    "    \n",
    "\n",
    "dataloaders = (train_loader, val_loader, test_loader)\n",
    "datasets_trainer=(data_module.train_dataset,data_module.val_dataset,data_module.test_dataset)\n",
    "# Create model\n",
    "model = Model(config_dico,datasets_trainer, dataloaders,wand=wand)\n",
    "\n",
    "\n",
    "# Configure the trainer\n",
    "trainer = Trainer(max_epochs=config_dico[\"trainer\"][\"epochs\"], logger= wandb_logger,log_every_n_steps=1)\n",
    "\n",
    "\n",
    "\n",
    "# Fit the model\n",
    "trainer.fit(model, train_loader, val_loader)\n",
    "\n",
    "# Test model with best validation loss\n",
    "model.load_model(name=\"best_train_loss\")\n",
    "model.mode=\"best_train_loss\"\n",
    "trainer.test(model, test_loader)\n",
    "\n",
    "#Test model with best validation accuracy\n",
    "model.load_model(name=\"best_train_ap\")\n",
    "model.mode=\"best_train_ap\"\n",
    "trainer.test(model, test_loader)\n",
    "\n",
    "# Test model with best validation loss\n",
    "model.load_model(name=\"best_val_loss\")\n",
    "model.mode=\"best_val_ap\"\n",
    "trainer.test(model, test_loader)\n",
    "\n",
    "#Test model with best validation accuracy\n",
    "model.load_model(name=\"best_val_ap\")\n",
    "model.mode=\"best_val_ap\"\n",
    "trainer.test(model, test_loader)\n",
    "\n",
    "\n",
    "\n"
   ]
  },
  {
   "cell_type": "code",
   "execution_count": null,
   "id": "37bd7470-8633-4468-bf81-d1d1b98aac35",
   "metadata": {},
   "outputs": [],
   "source": []
  }
 ],
 "metadata": {
  "kernelspec": {
   "display_name": "Python 3 (ipykernel)",
   "language": "python",
   "name": "python3"
  },
  "language_info": {
   "codemirror_mode": {
    "name": "ipython",
    "version": 3
   },
   "file_extension": ".py",
   "mimetype": "text/x-python",
   "name": "python",
   "nbconvert_exporter": "python",
   "pygments_lexer": "ipython3",
   "version": "3.11.10"
  }
 },
 "nbformat": 4,
 "nbformat_minor": 5
}
