{
 "cells": [
  {
   "cell_type": "code",
   "execution_count": 1,
   "id": "a9e28fc5-b768-412c-8e0a-91aece41507a",
   "metadata": {},
   "outputs": [
    {
     "data": {
      "text/plain": [
       "<torch._C.Generator at 0x127abcd50>"
      ]
     },
     "execution_count": 1,
     "metadata": {},
     "output_type": "execute_result"
    }
   ],
   "source": [
    "from training.perceiver import*\n",
    "from training.utils import*\n",
    "from training.losses import*\n",
    "from training.VIT import*\n",
    "from training.ResNet import*\n",
    "from collections import defaultdict\n",
    "from training import*\n",
    "\n",
    "from pytorch_lightning import Trainer\n",
    "from pytorch_lightning.loggers import WandbLogger\n",
    "\n",
    "import torch\n",
    "import numpy as np\n",
    "from torch import nn, einsum\n",
    "import torch.nn.functional as F\n",
    "import einops as einops\n",
    "from einops import rearrange, repeat\n",
    "from einops.layers.torch import Reduce\n",
    "\n",
    "#import matplotlib.pyplot as plt\n",
    "\n",
    "\n",
    "\n",
    "torch.manual_seed(0)"
   ]
  },
  {
   "cell_type": "code",
   "execution_count": 2,
   "id": "f4cfe7c8",
   "metadata": {},
   "outputs": [
    {
     "name": "stdout",
     "output_type": "stream",
     "text": [
      "(4, 4, 4, 3)\n"
     ]
    }
   ],
   "source": [
    "import numpy as np\n",
    "ids=get_ids_in_folder(base_path=\"./data/public/1.0.1/test/\")\n",
    "\n",
    "idx=10\n",
    "data=load_npz_by_id(idx,base_path=\"./data/public/1.0.1/test/\")\n",
    "\n",
    "\n",
    "tmp_name=data[\"alos\"][idx]\n",
    "print(tmp_name.shape)\n",
    "\n",
    "\n",
    "\n"
   ]
  },
  {
   "cell_type": "code",
   "execution_count": 11,
   "id": "96c312fa",
   "metadata": {},
   "outputs": [
    {
     "name": "stdout",
     "output_type": "stream",
     "text": [
      "Total samples to write: 136557\n"
     ]
    },
    {
     "name": "stderr",
     "output_type": "stream",
     "text": [
      "Processing files:  96%|█████████▋| 27/28 [00:46<00:01,  1.71s/it]\n"
     ]
    }
   ],
   "source": [
    "create_dataset(name=\"tiny\", mode=\"validation\",max_imgs=-1)"
   ]
  },
  {
   "cell_type": "code",
   "execution_count": 9,
   "id": "86f06a12",
   "metadata": {},
   "outputs": [
    {
     "name": "stdout",
     "output_type": "stream",
     "text": [
      "{'encoder': 'Atomiser', 'dataset': {'batchsize': 1, 'classes': 13, 'S1': True, 'S2': True, 'L7': True, 'MODIS': True, 'ALOS': True}, 'trainer': {'lr': '7e-4', 'dropout': 0.5, 'epochs': 25, 'logging_step': 10, 'num_classes': 13, 'weight_decay': 0.0, 'multi_modal': True, 'max_tokens': 1310720}, 'wavelengths_encoding': {'gauss_1': {'mean': 380, 'std': 15}, 'gauss_2': {'mean': 424, 'std': 15}, 'gauss_3': {'mean': 468, 'std': 15}, 'gauss_4': {'mean': 513, 'std': 15}, 'gauss_5': {'mean': 557, 'std': 15}, 'gauss_6': {'mean': 602, 'std': 15}, 'gauss_7': {'mean': 646, 'std': 15}, 'gauss_8': {'mean': 691, 'std': 15}, 'gauss_9': {'mean': 735, 'std': 15}, 'gauss_10': {'mean': 780, 'std': 15}, 'gauss_11': {'mean': 2100, 'std': 120}}, 'Atomiser': {'depth': 8, 'num_latents': 512, 'latent_dim': 512, 'cross_heads': 1, 'latent_heads': 8, 'cross_dim_head': 64, 'latent_dim_head': 64, 'attn_dropout': 0.0, 'ff_dropout': 0.0, 'weight_tie_layers': True, 'fourier_encode_data': False, 'self_per_cross_attn': 1, 'final_classifier_head': True, 'input_channels': 22, 'masking': 50, 'year_encoding': 'FF', 'day_encoding': 'FF', 'query_encoding': 'FF', 'bandvalue_encoding': 'FF', 'wavelength_encoding': 'GAUSSIANS', 'pos_encoding': 'FF', 'pos_num_freq_bands': 8, 'pos_max_freq': 4, 'wavelength_num_freq_bands': 1, 'wavelength_max_freq': 1, 'bandvalue_num_freq_bands': 1, 'bandvalue_max_freq': 1, 'year_num_freq_bands': 1, 'year_max_freq': 1, 'day_num_freq_bands': 1, 'day_max_freq': 1, 'query_num_freq_bands': 64, 'query_max_freq': 128}}\n"
     ]
    }
   ],
   "source": [
    "config=read_yaml(\"./training/configs/config_test-Atomiser_Atos.yaml\")\n",
    "transconfig=transformations_config_flair(\"./data/bands_info/bands.yaml\",config)\n",
    "\n",
    "dataset=CustomPlantnet(\"./data/custom_planted/tiny_train.h5\", config=config, trans_config=transconfig)"
   ]
  },
  {
   "cell_type": "code",
   "execution_count": 10,
   "id": "decd240e",
   "metadata": {},
   "outputs": [
    {
     "data": {
      "text/plain": [
       "(tensor([[1.5973e-06, 8.2588e-02, 9.9997e-01,  ..., 1.3691e-01, 9.9058e-01,\n",
       "          4.3716e-02],\n",
       "         [1.5973e-06, 8.2588e-02, 9.9997e-01,  ..., 1.3691e-01, 9.9058e-01,\n",
       "          4.3716e-02],\n",
       "         [1.5973e-06, 8.2588e-02, 9.9997e-01,  ..., 1.3691e-01, 9.9058e-01,\n",
       "          4.3716e-02],\n",
       "         ...,\n",
       "         [0.0000e+00, 0.0000e+00, 0.0000e+00,  ..., 1.4540e-01, 9.8937e-01,\n",
       "          4.6448e-02],\n",
       "         [0.0000e+00, 0.0000e+00, 0.0000e+00,  ..., 1.4540e-01, 9.8937e-01,\n",
       "          4.6448e-02],\n",
       "         [0.0000e+00, 0.0000e+00, 0.0000e+00,  ..., 1.4540e-01, 9.8937e-01,\n",
       "          4.6448e-02]]),\n",
       " tensor([1., 1., 1.,  ..., 3., 3., 3.]),\n",
       " np.int64(1))"
      ]
     },
     "execution_count": 10,
     "metadata": {},
     "output_type": "execute_result"
    }
   ],
   "source": [
    "dataset[0]"
   ]
  },
  {
   "cell_type": "code",
   "execution_count": null,
   "id": "34f3430d",
   "metadata": {},
   "outputs": [],
   "source": []
  }
 ],
 "metadata": {
  "kernelspec": {
   "display_name": "venv",
   "language": "python",
   "name": "python3"
  },
  "language_info": {
   "codemirror_mode": {
    "name": "ipython",
    "version": 3
   },
   "file_extension": ".py",
   "mimetype": "text/x-python",
   "name": "python",
   "nbconvert_exporter": "python",
   "pygments_lexer": "ipython3",
   "version": "3.11.9"
  }
 },
 "nbformat": 4,
 "nbformat_minor": 5
}
