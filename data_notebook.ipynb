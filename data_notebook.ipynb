{
 "cells": [
  {
   "cell_type": "code",
   "execution_count": 1,
   "id": "a9e28fc5-b768-412c-8e0a-91aece41507a",
   "metadata": {},
   "outputs": [
    {
     "data": {
      "text/plain": [
       "<torch._C.Generator at 0x10f512550>"
      ]
     },
     "execution_count": 1,
     "metadata": {},
     "output_type": "execute_result"
    }
   ],
   "source": [
    "from training.perceiver import*\n",
    "from training.utils import*\n",
    "from training.losses import*\n",
    "from training.VIT import*\n",
    "from training.ResNet import*\n",
    "from collections import defaultdict\n",
    "from training import*\n",
    "\n",
    "from pytorch_lightning import Trainer\n",
    "from pytorch_lightning.loggers import WandbLogger\n",
    "\n",
    "import torch\n",
    "import numpy as np\n",
    "from torch import nn, einsum\n",
    "import torch.nn.functional as F\n",
    "import einops as einops\n",
    "from einops import rearrange, repeat\n",
    "from einops.layers.torch import Reduce\n",
    "\n",
    "import matplotlib.pyplot as plt\n",
    "\n",
    "from configilm import util\n",
    "util.MESSAGE_LEVEL = util.MessageLevel.INFO  # use INFO to see all messages\n",
    "\n",
    "\n",
    "from configilm.extra.DataSets import BENv2_DataSet\n",
    "from configilm.extra.DataModules import BENv2_DataModule\n",
    "\n",
    "torch.manual_seed(0)"
   ]
  },
  {
   "cell_type": "code",
   "execution_count": 2,
   "id": "7188037a-09cf-4063-a849-c4f9c5ddb2fd",
   "metadata": {},
   "outputs": [],
   "source": [
    "mode=\"validation\""
   ]
  },
  {
   "cell_type": "code",
   "execution_count": 3,
   "id": "82cc97c1-2090-4da3-a929-18ff5737e8a2",
   "metadata": {},
   "outputs": [],
   "source": [
    "def prepare_BENv2(mode=None,max_len=None):\n",
    "    dico_paths={\"images_lmdb\":\"data/Encoded-BigEarthNet/\",\n",
    "    \"metadata_parquet\":\"data/Encoded-BigEarthNet/metadata.parquet\",\n",
    "    \"metadata_snow_cloud_parquet\":\"data/Encoded-BigEarthNet/metadata_for_patches_with_snow_cloud_or_shadow.parquet\"}\n",
    "\n",
    "    if max_len!=None:\n",
    "        return BENv2_DataSet.BENv2DataSet(data_dirs=dico_paths, img_size=(14, 120, 120),split=mode,max_len=max_len)\n",
    "\n",
    "    df=open_parquet(dico_paths[\"metadata_parquet\"])\n",
    "    return BENv2_DataSet.BENv2DataSet(data_dirs=dico_paths, img_size=(14, 120, 120),split=mode),df\n",
    "\n"
   ]
  },
  {
   "cell_type": "code",
   "execution_count": 4,
   "id": "dc046e83",
   "metadata": {},
   "outputs": [],
   "source": [
    "def create_datasets(name,trans_conf,sizes=(2,2,2),max_len=None):\n",
    "\n",
    "   \n",
    "    mode=\"train\"\n",
    "    ds,df=prepare_BENv2(max_len=max_len)\n",
    "    idxs,_=get_tiny_dataset(ds,df,MAX_IDs=sizes[0],mode=mode)\n",
    "    stats=create_dataset(idxs, ds, name=name, mode=mode, trans_config=trans_conf,stats=None)\n",
    "\n",
    "    mode=\"validation\"\n",
    "    ds,_=prepare_BENv2(max_len=max_len)\n",
    "    idxs,_=get_tiny_dataset(ds,df,MAX_IDs=sizes[1],mode=mode)\n",
    "    create_dataset(idxs, ds, name=name, mode=mode,trans_config=trans_conf,stats=stats)\n",
    "\n",
    "    mode=\"test\"\n",
    "    ds,_=prepare_BENv2(max_len=max_len)\n",
    "    idxs,_=get_tiny_dataset(ds,df,MAX_IDs=sizes[2],mode=mode)\n",
    "    create_dataset(idxs, ds, name=name, mode=mode,trans_config=trans_conf,stats=stats)\n",
    "\n",
    "    "
   ]
  },
  {
   "cell_type": "code",
   "execution_count": 5,
   "id": "77ebd737",
   "metadata": {},
   "outputs": [
    {
     "name": "stdout",
     "output_type": "stream",
     "text": [
      "\u001b[96m[INFO]    Loading BEN data for None...\u001b[0m\n",
      "\u001b[96m[INFO]        480038 patches indexed\u001b[0m\n",
      "\u001b[96m[INFO]        480038 pre-filtered patches indexed\u001b[0m\n",
      "\u001b[96m[INFO]        480038 filtered patches indexed\u001b[0m\n",
      "\u001b[96m[INFO]    Merged metadata with snow/cloud metadata\u001b[0m\n",
      "\u001b[96m[INFO]    Loaded 549488 labels\u001b[0m\n",
      "\u001b[96m[INFO]    Loaded 549488 keys\u001b[0m\n",
      "\u001b[96m[INFO]    Loaded mapping created\u001b[0m\n",
      "\u001b[96m[INFO]    Opening LMDB environment ...\u001b[0m\n",
      "summary dico stats\n",
      "{18: 10, 12: 10, 8: 10, 6: 10, 1: 10, 11: 10, 15: 10, 9: 10, 14: 10, 13: 10, 3: 10, 16: 10, 17: 10, 0: 10, 5: 10, 4: 10, 10: 10, 7: 10, 2: 10}\n",
      "\u001b[96m[INFO]    Loading BEN data for None...\u001b[0m\n",
      "\u001b[96m[INFO]        480038 patches indexed\u001b[0m\n",
      "\u001b[96m[INFO]        480038 pre-filtered patches indexed\u001b[0m\n",
      "\u001b[96m[INFO]        480038 filtered patches indexed\u001b[0m\n",
      "\u001b[96m[INFO]    Merged metadata with snow/cloud metadata\u001b[0m\n",
      "\u001b[96m[INFO]    Loaded 549488 labels\u001b[0m\n",
      "\u001b[96m[INFO]    Loaded 549488 keys\u001b[0m\n",
      "\u001b[96m[INFO]    Loaded mapping created\u001b[0m\n",
      "\u001b[96m[INFO]    Opening LMDB environment ...\u001b[0m\n",
      "summary dico stats\n",
      "{15: 10, 12: 10, 6: 10, 8: 10, 11: 10, 18: 10, 1: 10, 9: 10, 13: 10, 5: 10, 0: 10, 3: 10, 17: 10, 16: 10, 14: 10, 10: 10, 7: 10, 4: 10, 2: 10}\n",
      "\u001b[96m[INFO]    Loading BEN data for None...\u001b[0m\n",
      "\u001b[96m[INFO]        480038 patches indexed\u001b[0m\n",
      "\u001b[96m[INFO]        480038 pre-filtered patches indexed\u001b[0m\n",
      "\u001b[96m[INFO]        480038 filtered patches indexed\u001b[0m\n",
      "\u001b[96m[INFO]    Merged metadata with snow/cloud metadata\u001b[0m\n",
      "\u001b[96m[INFO]    Loaded 549488 labels\u001b[0m\n",
      "\u001b[96m[INFO]    Loaded 549488 keys\u001b[0m\n",
      "\u001b[96m[INFO]    Loaded mapping created\u001b[0m\n",
      "\u001b[96m[INFO]    Opening LMDB environment ...\u001b[0m\n",
      "summary dico stats\n",
      "{6: 10, 1: 10, 11: 10, 12: 10, 15: 10, 9: 10, 13: 10, 8: 10, 7: 10, 16: 10, 3: 10, 17: 10, 5: 10, 0: 10, 18: 10, 10: 10, 14: 10, 4: 10, 2: 10}\n"
     ]
    }
   ],
   "source": [
    "bands_yaml=\"./data/Tiny_BigEarthNet/bands.yaml\"\n",
    "configs_dataset=\"./data/Tiny_BigEarthNet/configs_dataset_loader.yaml\"\n",
    "\n",
    "test_conf= transformations_config(bands_yaml,configs_dataset,path_imgs_config=\"./data/Tiny_BigEarthNet/\",name_config=\"loader\")\n",
    "\n",
    "create_datasets(\"loader\",test_conf,sizes=(10,10,10))"
   ]
  },
  {
   "cell_type": "code",
   "execution_count": 76,
   "id": "152e05cb",
   "metadata": {},
   "outputs": [],
   "source": [
    "data_module=Tiny_BigEarthNetDataModule( \"./data/Tiny_BigEarthNet/regular\", batch_size=1, num_workers=4,trans_config=test_conf,model=\"Atomiser\")\n",
    "\n",
    "data_module.setup()\n",
    "# Prepare dataloaders\n",
    "train_loader = data_module.train_dataloader()\n",
    "val_loader = data_module.val_dataloader()\n",
    "test_loader = data_module.test_dataloader()"
   ]
  },
  {
   "cell_type": "code",
   "execution_count": 77,
   "id": "86f06a12",
   "metadata": {},
   "outputs": [],
   "source": [
    "batch_test=None\n",
    "for batch in train_loader:\n",
    "    batch_test=batch[0]\n",
    "    break\n"
   ]
  },
  {
   "cell_type": "code",
   "execution_count": 78,
   "id": "9cf3e83a",
   "metadata": {},
   "outputs": [
    {
     "data": {
      "text/plain": [
       "torch.Size([1, 53900, 28])"
      ]
     },
     "execution_count": 78,
     "metadata": {},
     "output_type": "execute_result"
    }
   ],
   "source": [
    "batch_test.shape"
   ]
  },
  {
   "cell_type": "code",
   "execution_count": 79,
   "id": "9ee551a2",
   "metadata": {},
   "outputs": [
    {
     "ename": "IndexError",
     "evalue": "index 1 is out of bounds for dimension 0 with size 1",
     "output_type": "error",
     "traceback": [
      "\u001b[0;31m---------------------------------------------------------------------------\u001b[0m",
      "\u001b[0;31mIndexError\u001b[0m                                Traceback (most recent call last)",
      "Cell \u001b[0;32mIn[79], line 2\u001b[0m\n\u001b[1;32m      1\u001b[0m idx\u001b[38;5;241m=\u001b[39m\u001b[38;5;241m1\u001b[39m\n\u001b[0;32m----> 2\u001b[0m img\u001b[38;5;241m=\u001b[39mtorch\u001b[38;5;241m.\u001b[39mstack([\u001b[43mbatch_test\u001b[49m\u001b[43m[\u001b[49m\u001b[43midx\u001b[49m\u001b[43m,\u001b[49m\u001b[38;5;241;43m5\u001b[39;49m\u001b[43m]\u001b[49m,batch_test[idx,\u001b[38;5;241m4\u001b[39m],batch_test[idx,\u001b[38;5;241m3\u001b[39m]],dim\u001b[38;5;241m=\u001b[39m\u001b[38;5;241m-\u001b[39m\u001b[38;5;241m1\u001b[39m)\n\u001b[1;32m      3\u001b[0m img\u001b[38;5;241m.\u001b[39mshape\n",
      "\u001b[0;31mIndexError\u001b[0m: index 1 is out of bounds for dimension 0 with size 1"
     ]
    }
   ],
   "source": [
    "idx=1\n",
    "img=torch.stack([batch_test[idx,5],batch_test[idx,4],batch_test[idx,3]],dim=-1)\n",
    "img.shape"
   ]
  },
  {
   "cell_type": "code",
   "execution_count": 10,
   "id": "74d0f814",
   "metadata": {},
   "outputs": [
    {
     "data": {
      "text/plain": [
       "<matplotlib.image.AxesImage at 0x346ce4a10>"
      ]
     },
     "execution_count": 10,
     "metadata": {},
     "output_type": "execute_result"
    },
    {
     "data": {
      "image/png": "[encoded data removed]",
      "text/plain": [
       "<Figure size 640x480 with 1 Axes>"
      ]
     },
     "metadata": {},
     "output_type": "display_data"
    }
   ],
   "source": [
    "plt.imshow(normalize(img))"
   ]
  },
  {
   "cell_type": "code",
   "execution_count": null,
   "id": "f295fb08",
   "metadata": {},
   "outputs": [],
   "source": [
    "scp -P 30370 -r ./Documents/Per-Sent-1-2/data/Tiny_BigEarthNet/regular_*.h5 root@78.60.214.72:/home/Per-Sent-1-2/data/Tiny_BigEarthNet/\n"
   ]
  }
 ],
 "metadata": {
  "kernelspec": {
   "display_name": "venv",
   "language": "python",
   "name": "python3"
  },
  "language_info": {
   "codemirror_mode": {
    "name": "ipython",
    "version": 3
   },
   "file_extension": ".py",
   "mimetype": "text/x-python",
   "name": "python",
   "nbconvert_exporter": "python",
   "pygments_lexer": "ipython3",
   "version": "3.11.9"
  }
 },
 "nbformat": 4,
 "nbformat_minor": 5
}
